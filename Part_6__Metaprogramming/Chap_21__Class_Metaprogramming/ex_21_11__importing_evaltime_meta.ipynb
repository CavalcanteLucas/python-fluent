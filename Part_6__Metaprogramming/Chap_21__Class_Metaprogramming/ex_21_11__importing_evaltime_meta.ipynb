{
 "cells": [
  {
   "cell_type": "code",
   "execution_count": 1,
   "metadata": {},
   "outputs": [
    {
     "name": "stdout",
     "output_type": "stream",
     "text": [
      "<[100]> evalsupport module start\n",
      "<[400]> MetaAleph body\n",
      "<[700]> evalsupport module end\n",
      "<[1]> evaltime_meta module start\n",
      "<[2]> ClassThree body\n",
      "<[200]> deco_alpha\n",
      "<[4]> ClassFour body\n",
      "<[6]> ClassFive body\n",
      "<[500]> MetaAleph.__init__\n",
      "<[9]> ClassSix body\n",
      "<[500]> MetaAleph.__init__\n",
      "<[15]> evaltime_meta module end\n"
     ]
    }
   ],
   "source": [
    "import ex_21_10__evaltime_meta"
   ]
  },
  {
   "cell_type": "code",
   "execution_count": null,
   "metadata": {},
   "outputs": [],
   "source": []
  }
 ],
 "metadata": {
  "kernelspec": {
   "display_name": "Python 3.10.2 64-bit ('python-fluent')",
   "language": "python",
   "name": "python3"
  },
  "language_info": {
   "codemirror_mode": {
    "name": "ipython",
    "version": 3
   },
   "file_extension": ".py",
   "mimetype": "text/x-python",
   "name": "python",
   "nbconvert_exporter": "python",
   "pygments_lexer": "ipython3",
   "version": "3.10.2"
  },
  "orig_nbformat": 4,
  "vscode": {
   "interpreter": {
    "hash": "b1cad6e4136aaf5b8d341537b41e4e06441496f7176c964558b716a0d04682ee"
   }
  }
 },
 "nbformat": 4,
 "nbformat_minor": 2
}
