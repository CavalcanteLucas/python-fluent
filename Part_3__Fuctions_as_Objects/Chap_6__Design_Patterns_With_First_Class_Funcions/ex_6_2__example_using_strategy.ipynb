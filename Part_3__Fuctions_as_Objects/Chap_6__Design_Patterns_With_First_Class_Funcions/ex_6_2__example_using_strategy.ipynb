{
 "cells": [
  {
   "cell_type": "code",
   "execution_count": 7,
   "metadata": {},
   "outputs": [
    {
     "data": {
      "text/plain": [
       "<Order total: 42.00 due 42.00>"
      ]
     },
     "execution_count": 7,
     "metadata": {},
     "output_type": "execute_result"
    }
   ],
   "source": [
    "from ex_6_1__strategies import (\n",
    "    Customer,\n",
    "    LineItem,\n",
    "    Order,\n",
    "    FidelityPromo,\n",
    "    BulkItemPromo,\n",
    "    LargeOrderPromo,\n",
    ")\n",
    "\n",
    "joe = Customer('John Doe', 0)\n",
    "ann = Customer('Ann Smith', 1100)\n",
    "cart = [\n",
    "    LineItem('banana', 4, 0.5),\n",
    "    LineItem('apple', 10, 1.5),\n",
    "    LineItem('watermellon', 5, 5.0),\n",
    "]\n",
    "Order(joe, cart, FidelityPromo())"
   ]
  },
  {
   "cell_type": "code",
   "execution_count": 8,
   "metadata": {},
   "outputs": [
    {
     "data": {
      "text/plain": [
       "<Order total: 42.00 due 39.90>"
      ]
     },
     "execution_count": 8,
     "metadata": {},
     "output_type": "execute_result"
    }
   ],
   "source": [
    "Order(ann, cart, FidelityPromo())"
   ]
  },
  {
   "cell_type": "code",
   "execution_count": 9,
   "metadata": {},
   "outputs": [
    {
     "data": {
      "text/plain": [
       "<Order total: 30.00 due 28.50>"
      ]
     },
     "execution_count": 9,
     "metadata": {},
     "output_type": "execute_result"
    }
   ],
   "source": [
    "banana_cart = [\n",
    "    LineItem('banana', 30, .5),\n",
    "    LineItem('apple', 10, 1.5),\n",
    "]\n",
    "Order(joe, banana_cart, BulkItemPromo())"
   ]
  },
  {
   "cell_type": "code",
   "execution_count": 11,
   "metadata": {},
   "outputs": [
    {
     "data": {
      "text/plain": [
       "<Order total: 10.00 due 9.30>"
      ]
     },
     "execution_count": 11,
     "metadata": {},
     "output_type": "execute_result"
    }
   ],
   "source": [
    "long_order = [\n",
    "    LineItem(str(item_code), 1, 1.0)\n",
    "    for item_code in range(10)\n",
    "]\n",
    "Order(joe, long_order, LargeOrderPromo())"
   ]
  },
  {
   "cell_type": "code",
   "execution_count": 12,
   "metadata": {},
   "outputs": [
    {
     "data": {
      "text/plain": [
       "<Order total: 42.00 due 42.00>"
      ]
     },
     "execution_count": 12,
     "metadata": {},
     "output_type": "execute_result"
    }
   ],
   "source": [
    "Order(joe, cart, LargeOrderPromo())"
   ]
  },
  {
   "cell_type": "code",
   "execution_count": null,
   "metadata": {},
   "outputs": [],
   "source": []
  }
 ],
 "metadata": {
  "interpreter": {
   "hash": "91801c9ce6957ebd0e9246650a12ff0ec9065db97224ddc8ea854cc44b68487c"
  },
  "kernelspec": {
   "display_name": "Python 3.8.10 64-bit ('python-fluent': pyenv)",
   "name": "python3"
  },
  "language_info": {
   "codemirror_mode": {
    "name": "ipython",
    "version": 3
   },
   "file_extension": ".py",
   "mimetype": "text/x-python",
   "name": "python",
   "nbconvert_exporter": "python",
   "pygments_lexer": "ipython3",
   "version": "3.8.10"
  },
  "orig_nbformat": 4
 },
 "nbformat": 4,
 "nbformat_minor": 2
}
