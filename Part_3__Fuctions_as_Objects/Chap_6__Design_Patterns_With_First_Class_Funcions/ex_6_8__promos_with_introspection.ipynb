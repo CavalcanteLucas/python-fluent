{
 "cells": [
  {
   "cell_type": "code",
   "execution_count": 1,
   "metadata": {},
   "outputs": [
    {
     "data": {
      "text/plain": [
       "[<function ex_6_3__functional_strategy.bulk_item_promo(order)>,\n",
       " <function ex_6_3__functional_strategy.fidelity_promo(order)>,\n",
       " <function ex_6_3__functional_strategy.large_order_promo(order)>,\n",
       " <function collections.namedtuple(typename, field_names, *, rename=False, defaults=None, module=None)>]"
      ]
     },
     "execution_count": 1,
     "metadata": {},
     "output_type": "execute_result"
    }
   ],
   "source": [
    "import inspect\n",
    "import ex_6_3__functional_strategy\n",
    "\n",
    "promos = [\n",
    "    func for name, func in\n",
    "    inspect.getmembers(ex_6_3__functional_strategy, inspect.isfunction)\n",
    "]\n",
    "\n",
    "promos"
   ]
  },
  {
   "cell_type": "code",
   "execution_count": null,
   "metadata": {},
   "outputs": [],
   "source": []
  }
 ],
 "metadata": {
  "interpreter": {
   "hash": "91801c9ce6957ebd0e9246650a12ff0ec9065db97224ddc8ea854cc44b68487c"
  },
  "kernelspec": {
   "display_name": "Python 3.8.10 64-bit ('python-fluent': pyenv)",
   "language": "python",
   "name": "python3"
  },
  "language_info": {
   "codemirror_mode": {
    "name": "ipython",
    "version": 3
   },
   "file_extension": ".py",
   "mimetype": "text/x-python",
   "name": "python",
   "nbconvert_exporter": "python",
   "pygments_lexer": "ipython3",
   "version": "3.8.10"
  },
  "orig_nbformat": 4
 },
 "nbformat": 4,
 "nbformat_minor": 2
}
