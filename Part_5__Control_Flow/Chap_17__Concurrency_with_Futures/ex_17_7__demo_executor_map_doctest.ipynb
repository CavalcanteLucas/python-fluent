{
 "cells": [
  {
   "cell_type": "code",
   "execution_count": 1,
   "metadata": {},
   "outputs": [
    {
     "name": "stdout",
     "output_type": "stream",
     "text": [
      "[17:53:49] Script starting.\n",
      "[17:53:49] loiter(0): doing nothing for 0s...\n",
      "[17:53:49] loiter(0): done.[17:53:49] \tloiter(1): doing nothing for 1s...\n",
      "[17:53:49] \t\tloiter(2): doing nothing for 2s...[17:53:49] results: \n",
      "<generator object Executor.map.<locals>.result_iterator at 0x7f12b1667bc0>\n",
      "[17:53:49] [17:53:49] \t\t\tloiter(3): doing nothing for 3s...\n",
      "Waiting for individual results:\n",
      "[17:53:49] result 0: 0\n",
      "\n",
      "[17:53:50] \tloiter(1): done.\n",
      "[17:53:50] \t\t\t\tloiter(4): doing nothing for 4s...\n",
      "[17:53:50] result 1: 10\n",
      "[17:53:51] \t\tloiter(2): done.\n",
      "[17:53:51] result 2: 20\n",
      "[17:53:52] \t\t\tloiter(3): done.\n",
      "[17:53:52] result 3: 30\n",
      "[17:53:54] \t\t\t\tloiter(4): done.\n",
      "[17:53:54] result 4: 40\n"
     ]
    },
    {
     "data": {
      "text/plain": [
       "0"
      ]
     },
     "execution_count": 1,
     "metadata": {},
     "output_type": "execute_result"
    }
   ],
   "source": [
    "import os\n",
    "\n",
    "os.system('python3 -m ex_17_6__demo_executor_map')"
   ]
  },
  {
   "cell_type": "code",
   "execution_count": null,
   "metadata": {},
   "outputs": [],
   "source": []
  }
 ],
 "metadata": {
  "interpreter": {
   "hash": "b1cad6e4136aaf5b8d341537b41e4e06441496f7176c964558b716a0d04682ee"
  },
  "kernelspec": {
   "display_name": "Python 3.10.2 64-bit ('python-fluent')",
   "language": "python",
   "name": "python3"
  },
  "language_info": {
   "codemirror_mode": {
    "name": "ipython",
    "version": 3
   },
   "file_extension": ".py",
   "mimetype": "text/x-python",
   "name": "python",
   "nbconvert_exporter": "python",
   "pygments_lexer": "ipython3",
   "version": "3.10.2"
  },
  "orig_nbformat": 4
 },
 "nbformat": 4,
 "nbformat_minor": 2
}
