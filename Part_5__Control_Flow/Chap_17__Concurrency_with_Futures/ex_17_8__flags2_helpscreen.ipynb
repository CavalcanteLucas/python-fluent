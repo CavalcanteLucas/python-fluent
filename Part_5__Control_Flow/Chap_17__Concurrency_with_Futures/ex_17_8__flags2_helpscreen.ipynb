{
 "cells": [
  {
   "cell_type": "code",
   "execution_count": 8,
   "metadata": {},
   "outputs": [
    {
     "name": "stdout",
     "output_type": "stream",
     "text": [
      "usage: ex_17_14__flags2_threadpool.py [-h] [-a] [-e] [-l N] [-m CONCURRENT]\n",
      "                                      [-s LABEL] [-v]\n",
      "                                      [CC ...]\n",
      "\n",
      "Download flags for conutry codes.Default: top 20 countries by population.\n",
      "\n",
      "positional arguments:\n",
      "  CC                    country code or 1st letter (eg. B for BA..BZ)\n",
      "\n",
      "options:\n",
      "  -h, --help            show this help message and exit\n",
      "  -a, --all             get all available flags (AD to ZW)\n",
      "  -e, --every           get flags for every possible code (AA..ZZ)\n",
      "  -l N, --limit N       limit to N first codes\n",
      "  -m CONCURRENT, --max_req CONCURRENT\n",
      "                        maximum concurrent requests (default=30)\n",
      "  -s LABEL, --server LABEL\n",
      "                        Server to hit; one of DELAY, ERROR, LOCAL, REMOTE\n",
      "                        (default=LOCAL)\n",
      "  -v, --verbose         output detailed progress info\n"
     ]
    },
    {
     "data": {
      "text/plain": [
       "0"
      ]
     },
     "execution_count": 8,
     "metadata": {},
     "output_type": "execute_result"
    }
   ],
   "source": [
    "import os\n",
    "\n",
    "os.system('python3 -m ex_17_14__flags2_threadpool -h')"
   ]
  },
  {
   "cell_type": "code",
   "execution_count": null,
   "metadata": {},
   "outputs": [],
   "source": []
  }
 ],
 "metadata": {
  "interpreter": {
   "hash": "b1cad6e4136aaf5b8d341537b41e4e06441496f7176c964558b716a0d04682ee"
  },
  "kernelspec": {
   "display_name": "Python 3.10.2 64-bit ('python-fluent')",
   "language": "python",
   "name": "python3"
  },
  "language_info": {
   "codemirror_mode": {
    "name": "ipython",
    "version": 3
   },
   "file_extension": ".py",
   "mimetype": "text/x-python",
   "name": "python",
   "nbconvert_exporter": "python",
   "pygments_lexer": "ipython3",
   "version": "3.10.2"
  },
  "orig_nbformat": 4
 },
 "nbformat": 4,
 "nbformat_minor": 2
}
