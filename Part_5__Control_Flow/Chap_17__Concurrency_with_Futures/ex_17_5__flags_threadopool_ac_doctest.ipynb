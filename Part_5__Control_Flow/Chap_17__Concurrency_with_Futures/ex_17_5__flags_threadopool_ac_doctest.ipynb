{
 "cells": [
  {
   "cell_type": "code",
   "execution_count": 3,
   "metadata": {},
   "outputs": [
    {
     "name": "stdout",
     "output_type": "stream",
     "text": [
      "Scheduled for BR: <Future at 0x7fc33ee7ea70 state=running>\n",
      "Scheduled for CN: <Future at 0x7fc33ee7f2b0 state=running>\n",
      "Scheduled for ID: <Future at 0x7fc33ee7fac0 state=running>\n",
      "Scheduled for IN: <Future at 0x7fc33eec83a0 state=pending>\n",
      "Scheduled for US: <Future at 0x7fc33eec8580 state=pending>\n",
      "IDBR CN  <Future at 0x7fc33ee7ea70 state=finished returned str> result: 'BR'\n",
      "<Future at 0x7fc33ee7f2b0 state=finished returned str> result: 'CN'\n",
      "<Future at 0x7fc33ee7fac0 state=finished returned str> result: 'ID'\n",
      "USIN  <Future at 0x7fc33eec83a0 state=finished returned str> result: 'IN'\n",
      "<Future at 0x7fc33eec8580 state=finished returned str> result: 'US'\n",
      "\n",
      "5 flags downloaded in 2.06s\n"
     ]
    },
    {
     "data": {
      "text/plain": [
       "0"
      ]
     },
     "execution_count": 3,
     "metadata": {},
     "output_type": "execute_result"
    }
   ],
   "source": [
    "import os\n",
    "\n",
    "os.system('python3 -m ex_17_4__flags_threadpool_ac')"
   ]
  },
  {
   "cell_type": "code",
   "execution_count": null,
   "metadata": {},
   "outputs": [],
   "source": []
  }
 ],
 "metadata": {
  "interpreter": {
   "hash": "b1cad6e4136aaf5b8d341537b41e4e06441496f7176c964558b716a0d04682ee"
  },
  "kernelspec": {
   "display_name": "Python 3.10.2 64-bit ('python-fluent')",
   "language": "python",
   "name": "python3"
  },
  "language_info": {
   "codemirror_mode": {
    "name": "ipython",
    "version": 3
   },
   "file_extension": ".py",
   "mimetype": "text/x-python",
   "name": "python",
   "nbconvert_exporter": "python",
   "pygments_lexer": "ipython3",
   "version": "3.10.2"
  },
  "orig_nbformat": 4
 },
 "nbformat": 4,
 "nbformat_minor": 2
}
