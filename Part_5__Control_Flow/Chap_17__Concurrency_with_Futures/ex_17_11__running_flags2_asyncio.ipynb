{
 "cells": [
  {
   "cell_type": "code",
   "execution_count": 9,
   "metadata": {},
   "outputs": [
    {
     "name": "stdout",
     "output_type": "stream",
     "text": [
      "ERROR site: http://localhost:8003/flags\n",
      "Searching for 20 flags: from BD to VN\n",
      "20 concurrent connections will be used.\n",
      "--------------------\n",
      "0 flags downloaded.\n",
      "20 errors.\n",
      "Elapsed time: 0.01s\n"
     ]
    },
    {
     "name": "stderr",
     "output_type": "stream",
     "text": [
      "/home/lucas/codes/python-fluent/Part_5__Control_Flow/Chap_17__Concurrency_with_Futures/../Chap_18__Concurrency_with_Asyncio/ex_18_7_8__flags2_asyncio.py:90: DeprecationWarning: There is no current event loop\n",
      "  loop = asyncio.get_event_loop()\n",
      "100%|██████████| 20/20 [00:00<00:00, 27404.80it/s]\n"
     ]
    },
    {
     "data": {
      "text/plain": [
       "0"
      ]
     },
     "execution_count": 9,
     "metadata": {},
     "output_type": "execute_result"
    }
   ],
   "source": [
    "import os\n",
    "\n",
    "os.system('python3 ../Chap_18__Concurrency_with_Asyncio/ex_18_7_8__flags2_asyncio.py -s ERROR -al 100 -m 100')"
   ]
  }
 ],
 "metadata": {
  "interpreter": {
   "hash": "b1cad6e4136aaf5b8d341537b41e4e06441496f7176c964558b716a0d04682ee"
  },
  "kernelspec": {
   "display_name": "Python 3.10.2 64-bit ('python-fluent')",
   "language": "python",
   "name": "python3"
  },
  "language_info": {
   "codemirror_mode": {
    "name": "ipython",
    "version": 3
   },
   "file_extension": ".py",
   "mimetype": "text/x-python",
   "name": "python",
   "nbconvert_exporter": "python",
   "pygments_lexer": "ipython3",
   "version": "3.10.2"
  },
  "orig_nbformat": 4
 },
 "nbformat": 4,
 "nbformat_minor": 2
}
