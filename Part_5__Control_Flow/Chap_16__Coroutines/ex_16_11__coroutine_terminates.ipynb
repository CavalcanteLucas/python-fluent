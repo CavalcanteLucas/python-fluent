{
 "cells": [
  {
   "cell_type": "code",
   "execution_count": 1,
   "metadata": {},
   "outputs": [
    {
     "name": "stdout",
     "output_type": "stream",
     "text": [
      "-> coroutine started\n"
     ]
    }
   ],
   "source": [
    "from ex_16_8__coro_exc_demo import demo_exc_handling\n",
    "exc_coro = demo_exc_handling()\n",
    "next(exc_coro)"
   ]
  },
  {
   "cell_type": "code",
   "execution_count": 2,
   "metadata": {},
   "outputs": [
    {
     "name": "stdout",
     "output_type": "stream",
     "text": [
      "-> coroutine received: 11\n"
     ]
    }
   ],
   "source": [
    "exc_coro.send(11)"
   ]
  },
  {
   "cell_type": "code",
   "execution_count": 3,
   "metadata": {},
   "outputs": [
    {
     "ename": "ZeroDivisionError",
     "evalue": "",
     "output_type": "error",
     "traceback": [
      "\u001b[0;31m---------------------------------------------------------------------------\u001b[0m",
      "\u001b[0;31mZeroDivisionError\u001b[0m                         Traceback (most recent call last)",
      "\u001b[1;32m/home/lucas/codes/python-fluent/Part_5__Control_Flow/Chap_16__Coroutines/ex_16_11__coroutine_terminates.ipynb Cell 3'\u001b[0m in \u001b[0;36m<module>\u001b[0;34m\u001b[0m\n\u001b[0;32m----> <a href='vscode-notebook-cell:/home/lucas/codes/python-fluent/Part_5__Control_Flow/Chap_16__Coroutines/ex_16_11__coroutine_terminates.ipynb#ch0000002?line=0'>1</a>\u001b[0m exc_coro\u001b[39m.\u001b[39;49mthrow(\u001b[39mZeroDivisionError\u001b[39;49;00m)\n",
      "File \u001b[0;32m~/codes/python-fluent/Part_5__Control_Flow/Chap_16__Coroutines/ex_16_8__coro_exc_demo.py:8\u001b[0m, in \u001b[0;36mdemo_exc_handling\u001b[0;34m()\u001b[0m\n\u001b[1;32m      <a href='file:///home/lucas/codes/python-fluent/Part_5__Control_Flow/Chap_16__Coroutines/ex_16_8__coro_exc_demo.py?line=5'>6</a>\u001b[0m \u001b[39mwhile\u001b[39;00m \u001b[39mTrue\u001b[39;00m:\n\u001b[1;32m      <a href='file:///home/lucas/codes/python-fluent/Part_5__Control_Flow/Chap_16__Coroutines/ex_16_8__coro_exc_demo.py?line=6'>7</a>\u001b[0m     \u001b[39mtry\u001b[39;00m:\n\u001b[0;32m----> <a href='file:///home/lucas/codes/python-fluent/Part_5__Control_Flow/Chap_16__Coroutines/ex_16_8__coro_exc_demo.py?line=7'>8</a>\u001b[0m         x \u001b[39m=\u001b[39m \u001b[39myield\u001b[39;00m\n\u001b[1;32m      <a href='file:///home/lucas/codes/python-fluent/Part_5__Control_Flow/Chap_16__Coroutines/ex_16_8__coro_exc_demo.py?line=8'>9</a>\u001b[0m     \u001b[39mexcept\u001b[39;00m DemoException:\n\u001b[1;32m     <a href='file:///home/lucas/codes/python-fluent/Part_5__Control_Flow/Chap_16__Coroutines/ex_16_8__coro_exc_demo.py?line=9'>10</a>\u001b[0m         \u001b[39mprint\u001b[39m(\u001b[39m'\u001b[39m\u001b[39m*** DemoException handled. Continuing...\u001b[39m\u001b[39m'\u001b[39m)\n",
      "\u001b[0;31mZeroDivisionError\u001b[0m: "
     ]
    }
   ],
   "source": [
    "exc_coro.throw(ZeroDivisionError)"
   ]
  },
  {
   "cell_type": "code",
   "execution_count": 4,
   "metadata": {},
   "outputs": [
    {
     "data": {
      "text/plain": [
       "'GEN_CLOSED'"
      ]
     },
     "execution_count": 4,
     "metadata": {},
     "output_type": "execute_result"
    }
   ],
   "source": [
    "from inspect import getgeneratorstate\n",
    "getgeneratorstate(exc_coro)"
   ]
  },
  {
   "cell_type": "code",
   "execution_count": null,
   "metadata": {},
   "outputs": [],
   "source": []
  }
 ],
 "metadata": {
  "interpreter": {
   "hash": "b1cad6e4136aaf5b8d341537b41e4e06441496f7176c964558b716a0d04682ee"
  },
  "kernelspec": {
   "display_name": "Python 3.10.2 64-bit ('python-fluent')",
   "language": "python",
   "name": "python3"
  },
  "language_info": {
   "codemirror_mode": {
    "name": "ipython",
    "version": 3
   },
   "file_extension": ".py",
   "mimetype": "text/x-python",
   "name": "python",
   "nbconvert_exporter": "python",
   "pygments_lexer": "ipython3",
   "version": "3.10.2"
  },
  "orig_nbformat": 4
 },
 "nbformat": 4,
 "nbformat_minor": 2
}
