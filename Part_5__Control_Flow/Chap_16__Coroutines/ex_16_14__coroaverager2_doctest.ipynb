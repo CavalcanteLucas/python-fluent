{
 "cells": [
  {
   "cell_type": "code",
   "execution_count": 4,
   "metadata": {},
   "outputs": [
    {
     "ename": "StopIteration",
     "evalue": "Result(count=3, average=15.5)",
     "output_type": "error",
     "traceback": [
      "\u001b[0;31m---------------------------------------------------------------------------\u001b[0m",
      "\u001b[0;31mStopIteration\u001b[0m                             Traceback (most recent call last)",
      "\u001b[1;32m/home/lucas/codes/python-fluent/Part_5__Control_Flow/Chap_16__Coroutines/ex_16_14__coroaverager2_doctest.ipynb Cell 1'\u001b[0m in \u001b[0;36m<module>\u001b[0;34m\u001b[0m\n\u001b[1;32m      <a href='vscode-notebook-cell:/home/lucas/codes/python-fluent/Part_5__Control_Flow/Chap_16__Coroutines/ex_16_14__coroaverager2_doctest.ipynb#ch0000000?line=4'>5</a>\u001b[0m coro_avg\u001b[39m.\u001b[39msend(\u001b[39m30\u001b[39m)\n\u001b[1;32m      <a href='vscode-notebook-cell:/home/lucas/codes/python-fluent/Part_5__Control_Flow/Chap_16__Coroutines/ex_16_14__coroaverager2_doctest.ipynb#ch0000000?line=5'>6</a>\u001b[0m coro_avg\u001b[39m.\u001b[39msend(\u001b[39m6.5\u001b[39m)\n\u001b[0;32m----> <a href='vscode-notebook-cell:/home/lucas/codes/python-fluent/Part_5__Control_Flow/Chap_16__Coroutines/ex_16_14__coroaverager2_doctest.ipynb#ch0000000?line=6'>7</a>\u001b[0m coro_avg\u001b[39m.\u001b[39;49msend(\u001b[39mNone\u001b[39;49;00m)\n",
      "\u001b[0;31mStopIteration\u001b[0m: Result(count=3, average=15.5)"
     ]
    }
   ],
   "source": [
    "from ex_16_13__coroaverager2 import averager\n",
    "coro_avg = averager()\n",
    "next(coro_avg)\n",
    "coro_avg.send(10)\n",
    "coro_avg.send(30)\n",
    "coro_avg.send(6.5)\n",
    "coro_avg.send(None)"
   ]
  },
  {
   "cell_type": "code",
   "execution_count": null,
   "metadata": {},
   "outputs": [],
   "source": []
  }
 ],
 "metadata": {
  "interpreter": {
   "hash": "b1cad6e4136aaf5b8d341537b41e4e06441496f7176c964558b716a0d04682ee"
  },
  "kernelspec": {
   "display_name": "Python 3.10.2 64-bit ('python-fluent')",
   "language": "python",
   "name": "python3"
  },
  "language_info": {
   "codemirror_mode": {
    "name": "ipython",
    "version": 3
   },
   "file_extension": ".py",
   "mimetype": "text/x-python",
   "name": "python",
   "nbconvert_exporter": "python",
   "pygments_lexer": "ipython3",
   "version": "3.10.2"
  },
  "orig_nbformat": 4
 },
 "nbformat": 4,
 "nbformat_minor": 2
}
