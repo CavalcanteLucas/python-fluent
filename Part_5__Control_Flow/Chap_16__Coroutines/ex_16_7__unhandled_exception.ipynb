{
 "cells": [
  {
   "cell_type": "code",
   "execution_count": 1,
   "metadata": {},
   "outputs": [
    {
     "data": {
      "text/plain": [
       "40.0"
      ]
     },
     "execution_count": 1,
     "metadata": {},
     "output_type": "execute_result"
    }
   ],
   "source": [
    "from ex_16_6__coroaverager1 import averager\n",
    "coro_avg = averager()\n",
    "coro_avg.send(40)"
   ]
  },
  {
   "cell_type": "code",
   "execution_count": 2,
   "metadata": {},
   "outputs": [
    {
     "data": {
      "text/plain": [
       "45.0"
      ]
     },
     "execution_count": 2,
     "metadata": {},
     "output_type": "execute_result"
    }
   ],
   "source": [
    "coro_avg.send(50)"
   ]
  },
  {
   "cell_type": "code",
   "execution_count": 3,
   "metadata": {},
   "outputs": [
    {
     "ename": "TypeError",
     "evalue": "unsupported operand type(s) for +=: 'float' and 'str'",
     "output_type": "error",
     "traceback": [
      "\u001b[0;31m---------------------------------------------------------------------------\u001b[0m",
      "\u001b[0;31mTypeError\u001b[0m                                 Traceback (most recent call last)",
      "\u001b[1;32m/home/lucas/codes/python-fluent/Part_5__Control_Flow/Chap_16__Coroutines/ex_16_7__unhandled_exception.ipynb Cell 3'\u001b[0m in \u001b[0;36m<module>\u001b[0;34m\u001b[0m\n\u001b[0;32m----> <a href='vscode-notebook-cell:/home/lucas/codes/python-fluent/Part_5__Control_Flow/Chap_16__Coroutines/ex_16_7__unhandled_exception.ipynb#ch0000002?line=0'>1</a>\u001b[0m coro_avg\u001b[39m.\u001b[39;49msend(\u001b[39m'\u001b[39;49m\u001b[39mspam\u001b[39;49m\u001b[39m'\u001b[39;49m)\n",
      "File \u001b[0;32m~/codes/python-fluent/Part_5__Control_Flow/Chap_16__Coroutines/ex_16_6__coroaverager1.py:26\u001b[0m, in \u001b[0;36maverager\u001b[0;34m()\u001b[0m\n\u001b[1;32m     <a href='file:///home/lucas/codes/python-fluent/Part_5__Control_Flow/Chap_16__Coroutines/ex_16_6__coroaverager1.py?line=23'>24</a>\u001b[0m \u001b[39mwhile\u001b[39;00m \u001b[39mTrue\u001b[39;00m:\n\u001b[1;32m     <a href='file:///home/lucas/codes/python-fluent/Part_5__Control_Flow/Chap_16__Coroutines/ex_16_6__coroaverager1.py?line=24'>25</a>\u001b[0m     term \u001b[39m=\u001b[39m \u001b[39myield\u001b[39;00m averager\n\u001b[0;32m---> <a href='file:///home/lucas/codes/python-fluent/Part_5__Control_Flow/Chap_16__Coroutines/ex_16_6__coroaverager1.py?line=25'>26</a>\u001b[0m     total \u001b[39m+\u001b[39m\u001b[39m=\u001b[39m term\n\u001b[1;32m     <a href='file:///home/lucas/codes/python-fluent/Part_5__Control_Flow/Chap_16__Coroutines/ex_16_6__coroaverager1.py?line=26'>27</a>\u001b[0m     count \u001b[39m+\u001b[39m\u001b[39m=\u001b[39m \u001b[39m1\u001b[39m\n\u001b[1;32m     <a href='file:///home/lucas/codes/python-fluent/Part_5__Control_Flow/Chap_16__Coroutines/ex_16_6__coroaverager1.py?line=27'>28</a>\u001b[0m     averager \u001b[39m=\u001b[39m total\u001b[39m/\u001b[39mcount\n",
      "\u001b[0;31mTypeError\u001b[0m: unsupported operand type(s) for +=: 'float' and 'str'"
     ]
    }
   ],
   "source": [
    "coro_avg.send('spam')"
   ]
  },
  {
   "cell_type": "code",
   "execution_count": 4,
   "metadata": {},
   "outputs": [
    {
     "ename": "StopIteration",
     "evalue": "",
     "output_type": "error",
     "traceback": [
      "\u001b[0;31m---------------------------------------------------------------------------\u001b[0m",
      "\u001b[0;31mStopIteration\u001b[0m                             Traceback (most recent call last)",
      "\u001b[1;32m/home/lucas/codes/python-fluent/Part_5__Control_Flow/Chap_16__Coroutines/ex_16_7__unhandled_exception.ipynb Cell 4'\u001b[0m in \u001b[0;36m<module>\u001b[0;34m\u001b[0m\n\u001b[0;32m----> <a href='vscode-notebook-cell:/home/lucas/codes/python-fluent/Part_5__Control_Flow/Chap_16__Coroutines/ex_16_7__unhandled_exception.ipynb#ch0000003?line=0'>1</a>\u001b[0m coro_avg\u001b[39m.\u001b[39;49msend(\u001b[39m60\u001b[39;49m)\n",
      "\u001b[0;31mStopIteration\u001b[0m: "
     ]
    }
   ],
   "source": [
    "coro_avg.send(60)"
   ]
  },
  {
   "cell_type": "code",
   "execution_count": null,
   "metadata": {},
   "outputs": [],
   "source": []
  }
 ],
 "metadata": {
  "interpreter": {
   "hash": "b1cad6e4136aaf5b8d341537b41e4e06441496f7176c964558b716a0d04682ee"
  },
  "kernelspec": {
   "display_name": "Python 3.10.2 64-bit ('python-fluent')",
   "language": "python",
   "name": "python3"
  },
  "language_info": {
   "codemirror_mode": {
    "name": "ipython",
    "version": 3
   },
   "file_extension": ".py",
   "mimetype": "text/x-python",
   "name": "python",
   "nbconvert_exporter": "python",
   "pygments_lexer": "ipython3",
   "version": "3.10.2"
  },
  "orig_nbformat": 4
 },
 "nbformat": 4,
 "nbformat_minor": 2
}
