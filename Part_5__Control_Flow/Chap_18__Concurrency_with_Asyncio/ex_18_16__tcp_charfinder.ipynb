{
 "cells": [
  {
   "cell_type": "code",
   "execution_count": 4,
   "metadata": {},
   "outputs": [
    {
     "name": "stderr",
     "output_type": "stream",
     "text": [
      "/home/lucas/codes/python-fluent/Part_5__Control_Flow/Chap_18__Concurrency_with_Asyncio/ex_18_14_15__tcp_charfinder.py:55: DeprecationWarning: There is no current event loop\n",
      "  loop = asyncio.get_event_loop()\n"
     ]
    },
    {
     "name": "stdout",
     "output_type": "stream",
     "text": [
      "Serving on ('127.0.0.1', 2323). Hit CTRL-C to stop.\n",
      "Received from ('127.0.0.1', 40964): 'cat face'\n",
      "Sent 10 results\n",
      "Close the client socket\n",
      "Received from ('127.0.0.1', 40968): 'sun'\n",
      "Sent 17 results\n",
      "Close the client socket\n",
      "Server shutting down.\n"
     ]
    },
    {
     "name": "stderr",
     "output_type": "stream",
     "text": [
      "Traceback (most recent call last):\n",
      "  File \"/home/lucas/.pyenv/versions/3.10.2/lib/python3.10/runpy.py\", line 196, in _run_module_as_main\n",
      "    return _run_code(code, main_globals, None,\n",
      "  File \"/home/lucas/.pyenv/versions/3.10.2/lib/python3.10/runpy.py\", line 86, in _run_code\n",
      "    exec(code, run_globals)\n",
      "  File \"/home/lucas/codes/python-fluent/Part_5__Control_Flow/Chap_18__Concurrency_with_Asyncio/ex_18_14_15__tcp_charfinder.py\", line 73, in <module>\n",
      "    asyncio.run(main(), debug=True)\n",
      "  File \"/home/lucas/.pyenv/versions/3.10.2/lib/python3.10/asyncio/runners.py\", line 37, in run\n",
      "    raise ValueError(\"a coroutine was expected, got {!r}\".format(main))\n",
      "ValueError: a coroutine was expected, got None\n"
     ]
    },
    {
     "data": {
      "text/plain": [
       "2"
      ]
     },
     "execution_count": 4,
     "metadata": {},
     "output_type": "execute_result"
    }
   ],
   "source": [
    "import os\n",
    "\n",
    "os.system('python3 -m ex_18_14_15__tcp_charfinder')"
   ]
  },
  {
   "cell_type": "code",
   "execution_count": null,
   "metadata": {},
   "outputs": [],
   "source": []
  }
 ],
 "metadata": {
  "interpreter": {
   "hash": "b1cad6e4136aaf5b8d341537b41e4e06441496f7176c964558b716a0d04682ee"
  },
  "kernelspec": {
   "display_name": "Python 3.10.2 64-bit ('python-fluent')",
   "language": "python",
   "name": "python3"
  },
  "language_info": {
   "codemirror_mode": {
    "name": "ipython",
    "version": 3
   },
   "file_extension": ".py",
   "mimetype": "text/x-python",
   "name": "python",
   "nbconvert_exporter": "python",
   "pygments_lexer": "ipython3",
   "version": "3.10.2"
  },
  "orig_nbformat": 4
 },
 "nbformat": 4,
 "nbformat_minor": 2
}
