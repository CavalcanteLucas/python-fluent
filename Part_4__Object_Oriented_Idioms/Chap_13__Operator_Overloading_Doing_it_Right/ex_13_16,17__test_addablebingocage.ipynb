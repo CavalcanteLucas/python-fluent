{
 "cells": [
  {
   "cell_type": "code",
   "execution_count": 1,
   "metadata": {},
   "outputs": [
    {
     "data": {
      "text/plain": [
       "('A', 'E', 'I', 'O', 'U')"
      ]
     },
     "execution_count": 1,
     "metadata": {},
     "output_type": "execute_result"
    }
   ],
   "source": [
    "from ex_13_18__bingoaddable import AddableBingoCage\n",
    "\n",
    "vowels = 'AEIOU'\n",
    "globe = AddableBingoCage(vowels)\n",
    "globe.inspect()\n"
   ]
  },
  {
   "cell_type": "code",
   "execution_count": 2,
   "metadata": {},
   "outputs": [
    {
     "data": {
      "text/plain": [
       "True"
      ]
     },
     "execution_count": 2,
     "metadata": {},
     "output_type": "execute_result"
    }
   ],
   "source": [
    "globe.pick() in vowels"
   ]
  },
  {
   "cell_type": "code",
   "execution_count": 3,
   "metadata": {},
   "outputs": [
    {
     "data": {
      "text/plain": [
       "4"
      ]
     },
     "execution_count": 3,
     "metadata": {},
     "output_type": "execute_result"
    }
   ],
   "source": [
    "\n",
    "len(globe.inspect())"
   ]
  },
  {
   "cell_type": "code",
   "execution_count": 4,
   "metadata": {},
   "outputs": [
    {
     "data": {
      "text/plain": [
       "7"
      ]
     },
     "execution_count": 4,
     "metadata": {},
     "output_type": "execute_result"
    }
   ],
   "source": [
    "globe2 = AddableBingoCage('XYZ')\n",
    "globe3 = globe + globe2\n",
    "len(globe3.inspect())"
   ]
  },
  {
   "cell_type": "code",
   "execution_count": 5,
   "metadata": {},
   "outputs": [
    {
     "ename": "TypeError",
     "evalue": "unsupported operand type(s) for +: 'AddableBingoCage' and 'list'",
     "output_type": "error",
     "traceback": [
      "\u001b[0;31m---------------------------------------------------------------------------\u001b[0m",
      "\u001b[0;31mTypeError\u001b[0m                                 Traceback (most recent call last)",
      "\u001b[1;32m/home/lucas/codes/python-fluent/Part_4__Object_Oriented_Idioms/Chap_13__Operator_Overloading_Doing_it_Right/ex_13_16__new_addablebingocage.ipynb Cell 5'\u001b[0m in \u001b[0;36m<module>\u001b[0;34m\u001b[0m\n\u001b[0;32m----> <a href='vscode-notebook-cell:/home/lucas/codes/python-fluent/Part_4__Object_Oriented_Idioms/Chap_13__Operator_Overloading_Doing_it_Right/ex_13_16__new_addablebingocage.ipynb#ch0000008?line=0'>1</a>\u001b[0m void \u001b[39m=\u001b[39m globe \u001b[39m+\u001b[39;49m [\u001b[39m10\u001b[39;49m, \u001b[39m20\u001b[39;49m]\n\u001b[1;32m      <a href='vscode-notebook-cell:/home/lucas/codes/python-fluent/Part_4__Object_Oriented_Idioms/Chap_13__Operator_Overloading_Doing_it_Right/ex_13_16__new_addablebingocage.ipynb#ch0000008?line=1'>2</a>\u001b[0m \u001b[39mprint\u001b[39m(void)\n",
      "\u001b[0;31mTypeError\u001b[0m: unsupported operand type(s) for +: 'AddableBingoCage' and 'list'"
     ]
    }
   ],
   "source": [
    "void = globe + [10, 20]\n",
    "print(void)"
   ]
  },
  {
   "cell_type": "code",
   "execution_count": 6,
   "metadata": {},
   "outputs": [
    {
     "data": {
      "text/plain": [
       "4"
      ]
     },
     "execution_count": 6,
     "metadata": {},
     "output_type": "execute_result"
    }
   ],
   "source": [
    "globe_orig = globe\n",
    "len(globe.inspect())"
   ]
  },
  {
   "cell_type": "code",
   "execution_count": 7,
   "metadata": {},
   "outputs": [
    {
     "data": {
      "text/plain": [
       "7"
      ]
     },
     "execution_count": 7,
     "metadata": {},
     "output_type": "execute_result"
    }
   ],
   "source": [
    "globe += globe2\n",
    "len(globe.inspect())"
   ]
  },
  {
   "cell_type": "code",
   "execution_count": 8,
   "metadata": {},
   "outputs": [
    {
     "data": {
      "text/plain": [
       "9"
      ]
     },
     "execution_count": 8,
     "metadata": {},
     "output_type": "execute_result"
    }
   ],
   "source": [
    "globe += ['M', 'N']\n",
    "len(globe.inspect())"
   ]
  },
  {
   "cell_type": "code",
   "execution_count": 9,
   "metadata": {},
   "outputs": [
    {
     "data": {
      "text/plain": [
       "True"
      ]
     },
     "execution_count": 9,
     "metadata": {},
     "output_type": "execute_result"
    }
   ],
   "source": [
    "globe is globe_orig"
   ]
  },
  {
   "cell_type": "code",
   "execution_count": 10,
   "metadata": {},
   "outputs": [
    {
     "ename": "TypeError",
     "evalue": "right operand in += must be 'AddableBingoCage' or an iterable",
     "output_type": "error",
     "traceback": [
      "\u001b[0;31m---------------------------------------------------------------------------\u001b[0m",
      "\u001b[0;31mTypeError\u001b[0m                                 Traceback (most recent call last)",
      "File \u001b[0;32m~/codes/python-fluent/Part_4__Object_Oriented_Idioms/Chap_13__Operator_Overloading_Doing_it_Right/ex_13_18__bingoaddable.py:44\u001b[0m, in \u001b[0;36mAddableBingoCage.__iadd__\u001b[0;34m(self, other)\u001b[0m\n\u001b[1;32m     <a href='file:///home/lucas/codes/python-fluent/Part_4__Object_Oriented_Idioms/Chap_13__Operator_Overloading_Doing_it_Right/ex_13_18__bingoaddable.py?line=42'>43</a>\u001b[0m \u001b[39mtry\u001b[39;00m:\n\u001b[0;32m---> <a href='file:///home/lucas/codes/python-fluent/Part_4__Object_Oriented_Idioms/Chap_13__Operator_Overloading_Doing_it_Right/ex_13_18__bingoaddable.py?line=43'>44</a>\u001b[0m     other_iterable \u001b[39m=\u001b[39m \u001b[39miter\u001b[39;49m(other)\n\u001b[1;32m     <a href='file:///home/lucas/codes/python-fluent/Part_4__Object_Oriented_Idioms/Chap_13__Operator_Overloading_Doing_it_Right/ex_13_18__bingoaddable.py?line=44'>45</a>\u001b[0m \u001b[39mexcept\u001b[39;00m \u001b[39mTypeError\u001b[39;00m:\n",
      "\u001b[0;31mTypeError\u001b[0m: 'int' object is not iterable",
      "\nDuring handling of the above exception, another exception occurred:\n",
      "\u001b[0;31mTypeError\u001b[0m                                 Traceback (most recent call last)",
      "\u001b[1;32m/home/lucas/codes/python-fluent/Part_4__Object_Oriented_Idioms/Chap_13__Operator_Overloading_Doing_it_Right/ex_13_16__new_addablebingocage.ipynb Cell 10'\u001b[0m in \u001b[0;36m<module>\u001b[0;34m\u001b[0m\n\u001b[0;32m----> <a href='vscode-notebook-cell:/home/lucas/codes/python-fluent/Part_4__Object_Oriented_Idioms/Chap_13__Operator_Overloading_Doing_it_Right/ex_13_16__new_addablebingocage.ipynb#ch0000014?line=0'>1</a>\u001b[0m globe \u001b[39m+\u001b[39m\u001b[39m=\u001b[39m \u001b[39m1\u001b[39m\n",
      "File \u001b[0;32m~/codes/python-fluent/Part_4__Object_Oriented_Idioms/Chap_13__Operator_Overloading_Doing_it_Right/ex_13_18__bingoaddable.py:48\u001b[0m, in \u001b[0;36mAddableBingoCage.__iadd__\u001b[0;34m(self, other)\u001b[0m\n\u001b[1;32m     <a href='file:///home/lucas/codes/python-fluent/Part_4__Object_Oriented_Idioms/Chap_13__Operator_Overloading_Doing_it_Right/ex_13_18__bingoaddable.py?line=45'>46</a>\u001b[0m         self_cls \u001b[39m=\u001b[39m \u001b[39mtype\u001b[39m(\u001b[39mself\u001b[39m)\u001b[39m.\u001b[39m\u001b[39m__name__\u001b[39m\n\u001b[1;32m     <a href='file:///home/lucas/codes/python-fluent/Part_4__Object_Oriented_Idioms/Chap_13__Operator_Overloading_Doing_it_Right/ex_13_18__bingoaddable.py?line=46'>47</a>\u001b[0m         msg \u001b[39m=\u001b[39m \u001b[39m'\u001b[39m\u001b[39mright operand in += must be \u001b[39m\u001b[39m{!r}\u001b[39;00m\u001b[39m or an iterable\u001b[39m\u001b[39m'\u001b[39m\n\u001b[0;32m---> <a href='file:///home/lucas/codes/python-fluent/Part_4__Object_Oriented_Idioms/Chap_13__Operator_Overloading_Doing_it_Right/ex_13_18__bingoaddable.py?line=47'>48</a>\u001b[0m         \u001b[39mraise\u001b[39;00m \u001b[39mTypeError\u001b[39;00m(msg\u001b[39m.\u001b[39mformat(self_cls))\n\u001b[1;32m     <a href='file:///home/lucas/codes/python-fluent/Part_4__Object_Oriented_Idioms/Chap_13__Operator_Overloading_Doing_it_Right/ex_13_18__bingoaddable.py?line=48'>49</a>\u001b[0m \u001b[39mself\u001b[39m\u001b[39m.\u001b[39mload(other_iterable)\n\u001b[1;32m     <a href='file:///home/lucas/codes/python-fluent/Part_4__Object_Oriented_Idioms/Chap_13__Operator_Overloading_Doing_it_Right/ex_13_18__bingoaddable.py?line=49'>50</a>\u001b[0m \u001b[39mreturn\u001b[39;00m \u001b[39mself\u001b[39m\n",
      "\u001b[0;31mTypeError\u001b[0m: right operand in += must be 'AddableBingoCage' or an iterable"
     ]
    }
   ],
   "source": [
    "globe += 1"
   ]
  },
  {
   "cell_type": "code",
   "execution_count": null,
   "metadata": {},
   "outputs": [],
   "source": []
  }
 ],
 "metadata": {
  "interpreter": {
   "hash": "b1cad6e4136aaf5b8d341537b41e4e06441496f7176c964558b716a0d04682ee"
  },
  "kernelspec": {
   "display_name": "Python 3.10.2 64-bit ('python-fluent')",
   "language": "python",
   "name": "python3"
  },
  "language_info": {
   "codemirror_mode": {
    "name": "ipython",
    "version": 3
   },
   "file_extension": ".py",
   "mimetype": "text/x-python",
   "name": "python",
   "nbconvert_exporter": "python",
   "pygments_lexer": "ipython3",
   "version": "3.10.2"
  },
  "orig_nbformat": 4
 },
 "nbformat": 4,
 "nbformat_minor": 2
}
