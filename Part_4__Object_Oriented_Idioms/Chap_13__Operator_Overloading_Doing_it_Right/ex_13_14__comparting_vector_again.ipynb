{
 "cells": [
  {
   "cell_type": "code",
   "execution_count": 20,
   "metadata": {},
   "outputs": [
    {
     "data": {
      "text/plain": [
       "True"
      ]
     },
     "execution_count": 20,
     "metadata": {},
     "output_type": "execute_result"
    }
   ],
   "source": [
    "import setup\n",
    "\n",
    "from ex_13_13__vector_v8 import VectorV8\n",
    "\n",
    "va = VectorV8([1.0, 2.0, 3.0])\n",
    "vb = VectorV8(range(1, 4))\n",
    "va == vb\n"
   ]
  },
  {
   "cell_type": "code",
   "execution_count": 26,
   "metadata": {},
   "outputs": [
    {
     "data": {
      "text/plain": [
       "True"
      ]
     },
     "execution_count": 26,
     "metadata": {},
     "output_type": "execute_result"
    }
   ],
   "source": [
    "vc = VectorV8([1, 2])\n",
    "from Chap_9__A_Pythonic_Object.ex_9_9__vector2d_full import Vector2d\n",
    "v2d = Vector2d(1, 2)\n",
    "vc == v2d"
   ]
  },
  {
   "cell_type": "code",
   "execution_count": 27,
   "metadata": {},
   "outputs": [
    {
     "data": {
      "text/plain": [
       "False"
      ]
     },
     "execution_count": 27,
     "metadata": {},
     "output_type": "execute_result"
    }
   ],
   "source": [
    "t3 = (1, 2, 3)\n",
    "va == t3"
   ]
  },
  {
   "cell_type": "code",
   "execution_count": null,
   "metadata": {},
   "outputs": [],
   "source": []
  }
 ],
 "metadata": {
  "interpreter": {
   "hash": "b1cad6e4136aaf5b8d341537b41e4e06441496f7176c964558b716a0d04682ee"
  },
  "kernelspec": {
   "display_name": "Python 3.10.2 64-bit ('python-fluent')",
   "language": "python",
   "name": "python3"
  },
  "language_info": {
   "codemirror_mode": {
    "name": "ipython",
    "version": 3
   },
   "file_extension": ".py",
   "mimetype": "text/x-python",
   "name": "python",
   "nbconvert_exporter": "python",
   "pygments_lexer": "ipython3",
   "version": "3.10.2"
  },
  "orig_nbformat": 4
 },
 "nbformat": 4,
 "nbformat_minor": 2
}
