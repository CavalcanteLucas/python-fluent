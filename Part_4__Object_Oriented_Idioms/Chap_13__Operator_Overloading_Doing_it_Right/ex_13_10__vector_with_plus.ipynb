{
 "cells": [
  {
   "cell_type": "code",
   "execution_count": 3,
   "metadata": {},
   "outputs": [
    {
     "ename": "TypeError",
     "evalue": "unsupported operand type(s) for +: 'VectorV9' and 'int'",
     "output_type": "error",
     "traceback": [
      "\u001b[0;31m---------------------------------------------------------------------------\u001b[0m",
      "\u001b[0;31mTypeError\u001b[0m                                 Traceback (most recent call last)",
      "\u001b[1;32m/home/lucas/codes/python-fluent/Part_4__Object_Oriented_Idioms/Chap_13__Operator_Overloading_Doing_it_Right/ex_13_10__vector_with_plus.ipynb Cell 1'\u001b[0m in \u001b[0;36m<module>\u001b[0;34m\u001b[0m\n\u001b[1;32m      <a href='vscode-notebook-cell:/home/lucas/codes/python-fluent/Part_4__Object_Oriented_Idioms/Chap_13__Operator_Overloading_Doing_it_Right/ex_13_10__vector_with_plus.ipynb#ch0000000?line=1'>2</a>\u001b[0m \u001b[39mfrom\u001b[39;00m \u001b[39mex_13_10__vector_with_plus\u001b[39;00m \u001b[39mimport\u001b[39;00m VectorV9\n\u001b[1;32m      <a href='vscode-notebook-cell:/home/lucas/codes/python-fluent/Part_4__Object_Oriented_Idioms/Chap_13__Operator_Overloading_Doing_it_Right/ex_13_10__vector_with_plus.ipynb#ch0000000?line=3'>4</a>\u001b[0m v1 \u001b[39m=\u001b[39m VectorV9([\u001b[39m1\u001b[39m, \u001b[39m2\u001b[39m, \u001b[39m3\u001b[39m])\n\u001b[0;32m----> <a href='vscode-notebook-cell:/home/lucas/codes/python-fluent/Part_4__Object_Oriented_Idioms/Chap_13__Operator_Overloading_Doing_it_Right/ex_13_10__vector_with_plus.ipynb#ch0000000?line=4'>5</a>\u001b[0m v1 \u001b[39m+\u001b[39;49m \u001b[39m1\u001b[39;49m\n",
      "\u001b[0;31mTypeError\u001b[0m: unsupported operand type(s) for +: 'VectorV9' and 'int'"
     ]
    }
   ],
   "source": [
    "import itertools\n",
    "from ex_13_10__vector_with_plus import VectorV9\n",
    "\n",
    "v1 = VectorV9([1, 2, 3])\n",
    "v1 + 1"
   ]
  },
  {
   "cell_type": "code",
   "execution_count": 2,
   "metadata": {},
   "outputs": [
    {
     "ename": "TypeError",
     "evalue": "unsupported operand type(s) for +: 'VectorV9' and 'str'",
     "output_type": "error",
     "traceback": [
      "\u001b[0;31m---------------------------------------------------------------------------\u001b[0m",
      "\u001b[0;31mTypeError\u001b[0m                                 Traceback (most recent call last)",
      "\u001b[1;32m/home/lucas/codes/python-fluent/Part_4__Object_Oriented_Idioms/Chap_13__Operator_Overloading_Doing_it_Right/ex_13_10__vector_with_plus.ipynb Cell 2'\u001b[0m in \u001b[0;36m<module>\u001b[0;34m\u001b[0m\n\u001b[0;32m----> <a href='vscode-notebook-cell:/home/lucas/codes/python-fluent/Part_4__Object_Oriented_Idioms/Chap_13__Operator_Overloading_Doing_it_Right/ex_13_10__vector_with_plus.ipynb#ch0000001?line=0'>1</a>\u001b[0m v1 \u001b[39m+\u001b[39;49m \u001b[39m'\u001b[39;49m\u001b[39mABC\u001b[39;49m\u001b[39m'\u001b[39;49m\n",
      "\u001b[0;31mTypeError\u001b[0m: unsupported operand type(s) for +: 'VectorV9' and 'str'"
     ]
    }
   ],
   "source": [
    "v1 + 'ABC'"
   ]
  },
  {
   "cell_type": "code",
   "execution_count": null,
   "metadata": {},
   "outputs": [],
   "source": []
  }
 ],
 "metadata": {
  "interpreter": {
   "hash": "b1cad6e4136aaf5b8d341537b41e4e06441496f7176c964558b716a0d04682ee"
  },
  "kernelspec": {
   "display_name": "Python 3.10.2 64-bit ('python-fluent')",
   "language": "python",
   "name": "python3"
  },
  "language_info": {
   "codemirror_mode": {
    "name": "ipython",
    "version": 3
   },
   "file_extension": ".py",
   "mimetype": "text/x-python",
   "name": "python",
   "nbconvert_exporter": "python",
   "pygments_lexer": "ipython3",
   "version": "3.10.2"
  },
  "orig_nbformat": 4
 },
 "nbformat": 4,
 "nbformat_minor": 2
}
