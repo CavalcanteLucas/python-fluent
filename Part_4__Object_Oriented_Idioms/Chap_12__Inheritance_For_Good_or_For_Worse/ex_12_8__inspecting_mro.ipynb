{
 "cells": [
  {
   "cell_type": "code",
   "execution_count": 1,
   "metadata": {},
   "outputs": [
    {
     "data": {
      "text/plain": [
       "(bool, int, object)"
      ]
     },
     "execution_count": 1,
     "metadata": {},
     "output_type": "execute_result"
    }
   ],
   "source": [
    "bool.__mro__"
   ]
  },
  {
   "cell_type": "code",
   "execution_count": 2,
   "metadata": {},
   "outputs": [
    {
     "name": "stdout",
     "output_type": "stream",
     "text": [
      "bool, int, object\n"
     ]
    }
   ],
   "source": [
    "def print_mro(cls):\n",
    "    print(', '.join(c.__name__ for c in cls.__mro__))\n",
    "print_mro(bool)"
   ]
  },
  {
   "cell_type": "code",
   "execution_count": 3,
   "metadata": {},
   "outputs": [
    {
     "name": "stdout",
     "output_type": "stream",
     "text": [
      "Integral, Rational, Real, Complex, Number, object\n"
     ]
    }
   ],
   "source": [
    "import numbers\n",
    "print_mro(numbers.Integral)"
   ]
  },
  {
   "cell_type": "code",
   "execution_count": 4,
   "metadata": {},
   "outputs": [
    {
     "name": "stdout",
     "output_type": "stream",
     "text": [
      "BytesIO, _BufferedIOBase, _IOBase, object\n"
     ]
    }
   ],
   "source": [
    "import io\n",
    "print_mro(io.BytesIO)"
   ]
  },
  {
   "cell_type": "code",
   "execution_count": 6,
   "metadata": {},
   "outputs": [
    {
     "name": "stdout",
     "output_type": "stream",
     "text": [
      "TextIOWrapper, _TextIOBase, _IOBase, object\n"
     ]
    }
   ],
   "source": [
    "print_mro(io.TextIOWrapper)"
   ]
  },
  {
   "cell_type": "code",
   "execution_count": 7,
   "metadata": {},
   "outputs": [
    {
     "name": "stdout",
     "output_type": "stream",
     "text": [
      "Text, Widget, BaseWidget, Misc, Pack, Place, Grid, XView, YView, object\n"
     ]
    }
   ],
   "source": [
    "import tkinter\n",
    "print_mro(tkinter.Text)"
   ]
  },
  {
   "cell_type": "code",
   "execution_count": 8,
   "metadata": {},
   "outputs": [
    {
     "name": "stdout",
     "output_type": "stream",
     "text": [
      "Widget, BaseWidget, Misc, Pack, Place, Grid, object\n"
     ]
    }
   ],
   "source": [
    "print_mro(tkinter.Widget)"
   ]
  },
  {
   "cell_type": "code",
   "execution_count": 9,
   "metadata": {},
   "outputs": [
    {
     "name": "stdout",
     "output_type": "stream",
     "text": [
      "Button, Widget, BaseWidget, Misc, Pack, Place, Grid, object\n"
     ]
    }
   ],
   "source": [
    "print_mro(tkinter.Button)"
   ]
  },
  {
   "cell_type": "code",
   "execution_count": 10,
   "metadata": {},
   "outputs": [
    {
     "name": "stdout",
     "output_type": "stream",
     "text": [
      "Entry, Widget, BaseWidget, Misc, Pack, Place, Grid, XView, object\n"
     ]
    }
   ],
   "source": [
    "print_mro(tkinter.Entry)"
   ]
  },
  {
   "cell_type": "code",
   "execution_count": 11,
   "metadata": {},
   "outputs": [
    {
     "name": "stdout",
     "output_type": "stream",
     "text": [
      "Text, Widget, BaseWidget, Misc, Pack, Place, Grid, XView, YView, object\n"
     ]
    }
   ],
   "source": [
    "print_mro(tkinter.Text)"
   ]
  },
  {
   "cell_type": "code",
   "execution_count": null,
   "metadata": {},
   "outputs": [],
   "source": []
  }
 ],
 "metadata": {
  "interpreter": {
   "hash": "b1cad6e4136aaf5b8d341537b41e4e06441496f7176c964558b716a0d04682ee"
  },
  "kernelspec": {
   "display_name": "Python 3.10.2 64-bit ('python-fluent')",
   "language": "python",
   "name": "python3"
  },
  "language_info": {
   "codemirror_mode": {
    "name": "ipython",
    "version": 3
   },
   "file_extension": ".py",
   "mimetype": "text/x-python",
   "name": "python",
   "nbconvert_exporter": "python",
   "pygments_lexer": "ipython3",
   "version": "3.10.2"
  },
  "orig_nbformat": 4
 },
 "nbformat": 4,
 "nbformat_minor": 2
}
