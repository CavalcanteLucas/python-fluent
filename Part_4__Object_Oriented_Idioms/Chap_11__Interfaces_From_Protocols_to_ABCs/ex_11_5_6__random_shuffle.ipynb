{
 "cells": [
  {
   "cell_type": "code",
   "execution_count": 1,
   "metadata": {},
   "outputs": [
    {
     "ename": "TypeError",
     "evalue": "'FrenchDeck' object does not support item assignment",
     "output_type": "error",
     "traceback": [
      "\u001b[0;31m---------------------------------------------------------------------------\u001b[0m",
      "\u001b[0;31mTypeError\u001b[0m                                 Traceback (most recent call last)",
      "\u001b[1;32m/home/lucas/codes/python-fluent/Part_4-Object_Oriented_Idioms/Chap_11-Interfaces_From_Protocols_to_ABCs/ex_11_5__random_shuffle.ipynb Cell 1'\u001b[0m in \u001b[0;36m<module>\u001b[0;34m\u001b[0m\n\u001b[1;32m      <a href='vscode-notebook-cell:/home/lucas/codes/python-fluent/Part_4-Object_Oriented_Idioms/Chap_11-Interfaces_From_Protocols_to_ABCs/ex_11_5__random_shuffle.ipynb#ch0000000?line=1'>2</a>\u001b[0m \u001b[39mfrom\u001b[39;00m \u001b[39mex_11_4__deck_as_a_sequence\u001b[39;00m \u001b[39mimport\u001b[39;00m FrenchDeck\n\u001b[1;32m      <a href='vscode-notebook-cell:/home/lucas/codes/python-fluent/Part_4-Object_Oriented_Idioms/Chap_11-Interfaces_From_Protocols_to_ABCs/ex_11_5__random_shuffle.ipynb#ch0000000?line=2'>3</a>\u001b[0m deck \u001b[39m=\u001b[39m FrenchDeck()\n\u001b[0;32m----> <a href='vscode-notebook-cell:/home/lucas/codes/python-fluent/Part_4-Object_Oriented_Idioms/Chap_11-Interfaces_From_Protocols_to_ABCs/ex_11_5__random_shuffle.ipynb#ch0000000?line=3'>4</a>\u001b[0m shuffle(deck)\n",
      "File \u001b[0;32m~/.pyenv/versions/3.10.2/lib/python3.10/random.py:394\u001b[0m, in \u001b[0;36mRandom.shuffle\u001b[0;34m(self, x, random)\u001b[0m\n\u001b[1;32m    <a href='file:///home/lucas/.pyenv/versions/3.10.2/lib/python3.10/random.py?line=390'>391</a>\u001b[0m     \u001b[39mfor\u001b[39;00m i \u001b[39min\u001b[39;00m \u001b[39mreversed\u001b[39m(\u001b[39mrange\u001b[39m(\u001b[39m1\u001b[39m, \u001b[39mlen\u001b[39m(x))):\n\u001b[1;32m    <a href='file:///home/lucas/.pyenv/versions/3.10.2/lib/python3.10/random.py?line=391'>392</a>\u001b[0m         \u001b[39m# pick an element in x[:i+1] with which to exchange x[i]\u001b[39;00m\n\u001b[1;32m    <a href='file:///home/lucas/.pyenv/versions/3.10.2/lib/python3.10/random.py?line=392'>393</a>\u001b[0m         j \u001b[39m=\u001b[39m randbelow(i \u001b[39m+\u001b[39m \u001b[39m1\u001b[39m)\n\u001b[0;32m--> <a href='file:///home/lucas/.pyenv/versions/3.10.2/lib/python3.10/random.py?line=393'>394</a>\u001b[0m         x[i], x[j] \u001b[39m=\u001b[39m x[j], x[i]\n\u001b[1;32m    <a href='file:///home/lucas/.pyenv/versions/3.10.2/lib/python3.10/random.py?line=394'>395</a>\u001b[0m \u001b[39melse\u001b[39;00m:\n\u001b[1;32m    <a href='file:///home/lucas/.pyenv/versions/3.10.2/lib/python3.10/random.py?line=395'>396</a>\u001b[0m     _warn(\u001b[39m'\u001b[39m\u001b[39mThe *random* parameter to shuffle() has been deprecated\u001b[39m\u001b[39m\\n\u001b[39;00m\u001b[39m'\u001b[39m\n\u001b[1;32m    <a href='file:///home/lucas/.pyenv/versions/3.10.2/lib/python3.10/random.py?line=396'>397</a>\u001b[0m           \u001b[39m'\u001b[39m\u001b[39msince Python 3.9 and will be removed in a subsequent \u001b[39m\u001b[39m'\u001b[39m\n\u001b[1;32m    <a href='file:///home/lucas/.pyenv/versions/3.10.2/lib/python3.10/random.py?line=397'>398</a>\u001b[0m           \u001b[39m'\u001b[39m\u001b[39mversion.\u001b[39m\u001b[39m'\u001b[39m,\n\u001b[1;32m    <a href='file:///home/lucas/.pyenv/versions/3.10.2/lib/python3.10/random.py?line=398'>399</a>\u001b[0m           \u001b[39mDeprecationWarning\u001b[39;00m, \u001b[39m2\u001b[39m)\n",
      "\u001b[0;31mTypeError\u001b[0m: 'FrenchDeck' object does not support item assignment"
     ]
    }
   ],
   "source": [
    "from random import shuffle\n",
    "from ex_11_4__deck_as_a_sequence import FrenchDeck\n",
    "deck = FrenchDeck()\n",
    "shuffle(deck)\n"
   ]
  },
  {
   "cell_type": "code",
   "execution_count": 2,
   "metadata": {},
   "outputs": [
    {
     "data": {
      "text/plain": [
       "[Card(rank='2', suite='hearts'),\n",
       " Card(rank='J', suite='diamonds'),\n",
       " Card(rank='2', suite='diamonds'),\n",
       " Card(rank='A', suite='spades'),\n",
       " Card(rank='4', suite='spades')]"
      ]
     },
     "execution_count": 2,
     "metadata": {},
     "output_type": "execute_result"
    }
   ],
   "source": [
    "def set_card(deck, position, card):\n",
    "    deck._cards[position] = card\n",
    "\n",
    "FrenchDeck.__setitem__ = set_card\n",
    "shuffle(deck)\n",
    "deck[:5]"
   ]
  },
  {
   "cell_type": "code",
   "execution_count": null,
   "metadata": {},
   "outputs": [],
   "source": []
  }
 ],
 "metadata": {
  "interpreter": {
   "hash": "b1cad6e4136aaf5b8d341537b41e4e06441496f7176c964558b716a0d04682ee"
  },
  "kernelspec": {
   "display_name": "Python 3.10.2 64-bit ('python-fluent')",
   "language": "python",
   "name": "python3"
  },
  "language_info": {
   "codemirror_mode": {
    "name": "ipython",
    "version": 3
   },
   "file_extension": ".py",
   "mimetype": "text/x-python",
   "name": "python",
   "nbconvert_exporter": "python",
   "pygments_lexer": "ipython3",
   "version": "3.10.2"
  },
  "orig_nbformat": 4
 },
 "nbformat": 4,
 "nbformat_minor": 2
}
