{
 "metadata": {
  "language_info": {
   "codemirror_mode": {
    "name": "ipython",
    "version": 3
   },
   "file_extension": ".py",
   "mimetype": "text/x-python",
   "name": "python",
   "nbconvert_exporter": "python",
   "pygments_lexer": "ipython3",
   "version": "3.8.2"
  },
  "orig_nbformat": 2,
  "kernelspec": {
   "name": "pythonjvsc74a57bd07b2c21fa319699461dc57a577529aa7c6acc04f91bbceed69df0dfeab7e213ef",
   "display_name": "Python 3.8.2  ('venv': venv)"
  },
  "metadata": {
   "interpreter": {
    "hash": "7b2c21fa319699461dc57a577529aa7c6acc04f91bbceed69df0dfeab7e213ef"
   }
  }
 },
 "nbformat": 4,
 "nbformat_minor": 2,
 "cells": [
  {
   "cell_type": "code",
   "execution_count": 2,
   "metadata": {},
   "outputs": [],
   "source": [
    "# - run 'python ex_3_14_a_2__generate_array.py' to generate 'haystack' and 'needles' data samples;\n",
    "# - run 'python ex_3_14_a_1__container_perftest.py dict -v'\n",
    "# - run 'python ex_3_14_a_1__container_perftest.py set'\n",
    "# - run 'python ex_3_14_a_1__container_perftest.py list'"
   ]
  }
 ]
}