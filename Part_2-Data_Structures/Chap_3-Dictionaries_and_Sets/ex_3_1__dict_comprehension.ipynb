{
 "metadata": {
  "language_info": {
   "codemirror_mode": {
    "name": "ipython",
    "version": 3
   },
   "file_extension": ".py",
   "mimetype": "text/x-python",
   "name": "python",
   "nbconvert_exporter": "python",
   "pygments_lexer": "ipython3",
   "version": "3.8.5-final"
  },
  "orig_nbformat": 2,
  "kernelspec": {
   "name": "python38264bitvenvvenv1d06ed9c14614c3d96a251e5f1b0d314",
   "display_name": "Python 3.8.2 64-bit ('venv': venv)",
   "language": "python"
  }
 },
 "nbformat": 4,
 "nbformat_minor": 2,
 "cells": [
  {
   "cell_type": "code",
   "execution_count": 4,
   "metadata": {},
   "outputs": [
    {
     "output_type": "execute_result",
     "data": {
      "text/plain": [
       "{'China': 86,\n",
       " 'India': 91,\n",
       " 'United States': 1,\n",
       " 'Indonesia': 62,\n",
       " 'Brazil': 55,\n",
       " 'Pakistan': 92,\n",
       " 'Bangladesh': 880,\n",
       " 'Nigeria': 234,\n",
       " 'Russia': 7,\n",
       " 'Japan': 81}"
      ]
     },
     "metadata": {},
     "execution_count": 4
    }
   ],
   "source": [
    "DIAL_CODES = [\n",
    "    (86, 'China'),\n",
    "    (91, 'India'),\n",
    "    (1, 'United States'),\n",
    "    (62, 'Indonesia'),\n",
    "    (55, 'Brazil'),\n",
    "    (92, 'Pakistan'),\n",
    "    (880, 'Bangladesh'),\n",
    "    (234, 'Nigeria'),\n",
    "    (7, 'Russia'),\n",
    "    (81, 'Japan'),\n",
    "]\n",
    "country_code = {country: code for code, country in DIAL_CODES}\n",
    "country_code"
   ]
  },
  {
   "cell_type": "code",
   "execution_count": 5,
   "metadata": {},
   "outputs": [
    {
     "output_type": "execute_result",
     "data": {
      "text/plain": [
       "{1: 'UNITED STATES', 62: 'INDONESIA', 55: 'BRAZIL', 7: 'RUSSIA'}"
      ]
     },
     "metadata": {},
     "execution_count": 5
    }
   ],
   "source": [
    "{code: country.upper() for country, code in country_code.items() if code < 66}"
   ]
  }
 ]
}