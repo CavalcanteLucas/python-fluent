{
 "cells": [
  {
   "cell_type": "code",
   "execution_count": null,
   "source": [
    "import struct\n",
    "fmt = '<3s3sHH'\n",
    "with open('filter.gif', 'rb') as fp:\n",
    "    img = memoryview(fp.read())"
   ],
   "outputs": [],
   "metadata": {}
  }
 ],
 "metadata": {
  "orig_nbformat": 4,
  "language_info": {
   "name": "python"
  }
 },
 "nbformat": 4,
 "nbformat_minor": 2
}