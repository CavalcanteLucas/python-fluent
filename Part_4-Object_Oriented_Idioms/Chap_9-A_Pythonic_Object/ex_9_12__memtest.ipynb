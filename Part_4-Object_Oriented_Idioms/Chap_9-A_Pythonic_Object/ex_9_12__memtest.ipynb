{
 "cells": [
  {
   "cell_type": "code",
   "execution_count": 7,
   "metadata": {},
   "outputs": [
    {
     "name": "stdout",
     "output_type": "stream",
     "text": [
      "Selected Vector2d type: ex_9_2__vector2d.Vector2d\n",
      "Creating 10,000,000 Vector2d instances\n",
      "Initial RAM usage:          8,936\n",
      "  Final RAM usage:      1,655,716\n",
      "python3 ex_9_12_a_4__memtest.py ex_9_2__vector2d.py  12,84s user 0,66s system 99% cpu 13,510 total\n"
     ]
    }
   ],
   "source": [
    "! time python3 ex_9_12_a_4__memtest.py ex_9_2__vector2d.py"
   ]
  },
  {
   "cell_type": "code",
   "execution_count": 9,
   "metadata": {},
   "outputs": [
    {
     "name": "stdout",
     "output_type": "stream",
     "text": [
      "Selected Vector2d type: ex_9_11__vector_2d_slots.Vector2d\n",
      "Creating 10,000,000 Vector2d instances\n",
      "Initial RAM usage:          8,688\n",
      "  Final RAM usage:        557,280\n",
      "python3 ex_9_12_a_4__memtest.py ex_9_11__vector_2d_slots.py  9,29s user 0,24s system 99% cpu 9,531 total\n"
     ]
    }
   ],
   "source": [
    "! time python3 ex_9_12_a_4__memtest.py ex_9_11__vector_2d_slots.py"
   ]
  }
 ],
 "metadata": {
  "interpreter": {
   "hash": "b1cad6e4136aaf5b8d341537b41e4e06441496f7176c964558b716a0d04682ee"
  },
  "kernelspec": {
   "display_name": "Python 3.10.2 64-bit ('python-fluent')",
   "language": "python",
   "name": "python3"
  },
  "language_info": {
   "codemirror_mode": {
    "name": "ipython",
    "version": 3
   },
   "file_extension": ".py",
   "mimetype": "text/x-python",
   "name": "python",
   "nbconvert_exporter": "python",
   "pygments_lexer": "ipython3",
   "version": "3.10.2"
  },
  "orig_nbformat": 4
 },
 "nbformat": 4,
 "nbformat_minor": 2
}
