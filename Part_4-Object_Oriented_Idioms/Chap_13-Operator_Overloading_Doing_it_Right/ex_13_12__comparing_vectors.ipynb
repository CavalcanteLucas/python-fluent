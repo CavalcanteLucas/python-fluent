{
 "cells": [
  {
   "cell_type": "code",
   "execution_count": 5,
   "metadata": {},
   "outputs": [
    {
     "data": {
      "text/plain": [
       "True"
      ]
     },
     "execution_count": 5,
     "metadata": {},
     "output_type": "execute_result"
    }
   ],
   "source": [
    "from copies.ex_10_16__vector_v5_copy import Vector\n",
    "from copies.ex_9_9__vector2d_full_copy import Vector2d\n",
    "\n",
    "va = Vector([1.0, 2.0, 3.0])\n",
    "vb = Vector(range(1, 4))\n",
    "va == vb"
   ]
  },
  {
   "cell_type": "code",
   "execution_count": 6,
   "metadata": {},
   "outputs": [
    {
     "ename": "TypeError",
     "evalue": "object of type 'Vector2d' has no len()",
     "output_type": "error",
     "traceback": [
      "\u001b[0;31m---------------------------------------------------------------------------\u001b[0m",
      "\u001b[0;31mTypeError\u001b[0m                                 Traceback (most recent call last)",
      "\u001b[1;32m/home/lucas/codes/python-fluent/Part_4-Object_Oriented_Idioms/Chap_13-Operator_Overloading_Doing_it_Right/ex_13_12__comparing_vectors.ipynb Cell 2'\u001b[0m in \u001b[0;36m<module>\u001b[0;34m\u001b[0m\n\u001b[1;32m      <a href='vscode-notebook-cell:/home/lucas/codes/python-fluent/Part_4-Object_Oriented_Idioms/Chap_13-Operator_Overloading_Doing_it_Right/ex_13_12__comparing_vectors.ipynb#ch0000001?line=0'>1</a>\u001b[0m vc \u001b[39m=\u001b[39m Vector([\u001b[39m1\u001b[39m, \u001b[39m2\u001b[39m])\n\u001b[1;32m      <a href='vscode-notebook-cell:/home/lucas/codes/python-fluent/Part_4-Object_Oriented_Idioms/Chap_13-Operator_Overloading_Doing_it_Right/ex_13_12__comparing_vectors.ipynb#ch0000001?line=1'>2</a>\u001b[0m v2d \u001b[39m=\u001b[39m Vector2d(\u001b[39m1\u001b[39m, \u001b[39m2\u001b[39m)\n\u001b[0;32m----> <a href='vscode-notebook-cell:/home/lucas/codes/python-fluent/Part_4-Object_Oriented_Idioms/Chap_13-Operator_Overloading_Doing_it_Right/ex_13_12__comparing_vectors.ipynb#ch0000001?line=2'>3</a>\u001b[0m vc \u001b[39m==\u001b[39;49m v2d\n",
      "File \u001b[0;32m~/codes/python-fluent/Part_4-Object_Oriented_Idioms/Chap_13-Operator_Overloading_Doing_it_Right/copies/ex_10_16__vector_v5_copy.py:221\u001b[0m, in \u001b[0;36mVector.__eq__\u001b[0;34m(self, other)\u001b[0m\n\u001b[1;32m    <a href='file:///home/lucas/codes/python-fluent/Part_4-Object_Oriented_Idioms/Chap_13-Operator_Overloading_Doing_it_Right/copies/ex_10_16__vector_v5_copy.py?line=219'>220</a>\u001b[0m \u001b[39mdef\u001b[39;00m \u001b[39m__eq__\u001b[39m(\u001b[39mself\u001b[39m, other):\n\u001b[0;32m--> <a href='file:///home/lucas/codes/python-fluent/Part_4-Object_Oriented_Idioms/Chap_13-Operator_Overloading_Doing_it_Right/copies/ex_10_16__vector_v5_copy.py?line=220'>221</a>\u001b[0m     \u001b[39mreturn\u001b[39;00m \u001b[39mlen\u001b[39m(\u001b[39mself\u001b[39m) \u001b[39m==\u001b[39m \u001b[39mlen\u001b[39;49m(other) \u001b[39mand\u001b[39;00m \u001b[39mall\u001b[39m(a \u001b[39m==\u001b[39m b \u001b[39mfor\u001b[39;00m a, b \u001b[39min\u001b[39;00m \u001b[39mzip\u001b[39m(\u001b[39mself\u001b[39m, other))\n",
      "\u001b[0;31mTypeError\u001b[0m: object of type 'Vector2d' has no len()"
     ]
    }
   ],
   "source": [
    "vc = Vector([1, 2])\n",
    "v2d = Vector2d(1, 2)\n",
    "vc == v2d"
   ]
  },
  {
   "cell_type": "code",
   "execution_count": 7,
   "metadata": {},
   "outputs": [
    {
     "data": {
      "text/plain": [
       "True"
      ]
     },
     "execution_count": 7,
     "metadata": {},
     "output_type": "execute_result"
    }
   ],
   "source": [
    "v2d == vc"
   ]
  },
  {
   "cell_type": "code",
   "execution_count": 8,
   "metadata": {},
   "outputs": [
    {
     "data": {
      "text/plain": [
       "True"
      ]
     },
     "execution_count": 8,
     "metadata": {},
     "output_type": "execute_result"
    }
   ],
   "source": [
    "t3 = (1, 2, 3)\n",
    "va == t3"
   ]
  },
  {
   "cell_type": "code",
   "execution_count": null,
   "metadata": {},
   "outputs": [],
   "source": []
  }
 ],
 "metadata": {
  "interpreter": {
   "hash": "b1cad6e4136aaf5b8d341537b41e4e06441496f7176c964558b716a0d04682ee"
  },
  "kernelspec": {
   "display_name": "Python 3.10.2 64-bit ('python-fluent')",
   "language": "python",
   "name": "python3"
  },
  "language_info": {
   "codemirror_mode": {
    "name": "ipython",
    "version": 3
   },
   "file_extension": ".py",
   "mimetype": "text/x-python",
   "name": "python",
   "nbconvert_exporter": "python",
   "pygments_lexer": "ipython3",
   "version": "3.10.2"
  },
  "orig_nbformat": 4
 },
 "nbformat": 4,
 "nbformat_minor": 2
}
