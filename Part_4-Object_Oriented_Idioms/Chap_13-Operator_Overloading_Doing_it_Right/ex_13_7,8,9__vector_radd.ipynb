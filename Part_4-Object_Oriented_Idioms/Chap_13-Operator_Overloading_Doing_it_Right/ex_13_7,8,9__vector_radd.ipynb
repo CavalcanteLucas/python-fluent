{
 "cells": [
  {
   "cell_type": "code",
   "execution_count": 1,
   "metadata": {},
   "outputs": [
    {
     "ename": "TypeError",
     "evalue": "'int' object is not iterable",
     "output_type": "error",
     "traceback": [
      "\u001b[0;31m---------------------------------------------------------------------------\u001b[0m",
      "\u001b[0;31mTypeError\u001b[0m                                 Traceback (most recent call last)",
      "\u001b[1;32m/home/lucas/codes/python-fluent/Part_4-Object_Oriented_Idioms/Chap_13-Operator_Overloading_Doing_it_Right/ex_13_7,8,9__vector_radd.ipynb Cell 1'\u001b[0m in \u001b[0;36m<module>\u001b[0;34m\u001b[0m\n\u001b[1;32m     <a href='vscode-notebook-cell:/home/lucas/codes/python-fluent/Part_4-Object_Oriented_Idioms/Chap_13-Operator_Overloading_Doing_it_Right/ex_13_7%2C8%2C9__vector_radd.ipynb#ch0000000?line=9'>10</a>\u001b[0m         \u001b[39mreturn\u001b[39;00m \u001b[39mself\u001b[39m \u001b[39m+\u001b[39m other\n\u001b[1;32m     <a href='vscode-notebook-cell:/home/lucas/codes/python-fluent/Part_4-Object_Oriented_Idioms/Chap_13-Operator_Overloading_Doing_it_Right/ex_13_7%2C8%2C9__vector_radd.ipynb#ch0000000?line=11'>12</a>\u001b[0m v1 \u001b[39m=\u001b[39m VectorV8([\u001b[39m1\u001b[39m, \u001b[39m2\u001b[39m, \u001b[39m3\u001b[39m])\n\u001b[0;32m---> <a href='vscode-notebook-cell:/home/lucas/codes/python-fluent/Part_4-Object_Oriented_Idioms/Chap_13-Operator_Overloading_Doing_it_Right/ex_13_7%2C8%2C9__vector_radd.ipynb#ch0000000?line=12'>13</a>\u001b[0m v1 \u001b[39m+\u001b[39;49m \u001b[39m1\u001b[39;49m\n",
      "\u001b[1;32m/home/lucas/codes/python-fluent/Part_4-Object_Oriented_Idioms/Chap_13-Operator_Overloading_Doing_it_Right/ex_13_7,8,9__vector_radd.ipynb Cell 1'\u001b[0m in \u001b[0;36mVectorV8.__add__\u001b[0;34m(self, other)\u001b[0m\n\u001b[1;32m      <a href='vscode-notebook-cell:/home/lucas/codes/python-fluent/Part_4-Object_Oriented_Idioms/Chap_13-Operator_Overloading_Doing_it_Right/ex_13_7%2C8%2C9__vector_radd.ipynb#ch0000000?line=4'>5</a>\u001b[0m \u001b[39mdef\u001b[39;00m \u001b[39m__add__\u001b[39m(\u001b[39mself\u001b[39m, other):\n\u001b[0;32m----> <a href='vscode-notebook-cell:/home/lucas/codes/python-fluent/Part_4-Object_Oriented_Idioms/Chap_13-Operator_Overloading_Doing_it_Right/ex_13_7%2C8%2C9__vector_radd.ipynb#ch0000000?line=5'>6</a>\u001b[0m     pairs \u001b[39m=\u001b[39m itertools\u001b[39m.\u001b[39;49mzip_longest(\u001b[39mself\u001b[39;49m, other, fillvalue\u001b[39m=\u001b[39;49m\u001b[39m0.0\u001b[39;49m)\n\u001b[1;32m      <a href='vscode-notebook-cell:/home/lucas/codes/python-fluent/Part_4-Object_Oriented_Idioms/Chap_13-Operator_Overloading_Doing_it_Right/ex_13_7%2C8%2C9__vector_radd.ipynb#ch0000000?line=6'>7</a>\u001b[0m     \u001b[39mreturn\u001b[39;00m VectorV8(a \u001b[39m+\u001b[39m b \u001b[39mfor\u001b[39;00m a, b \u001b[39min\u001b[39;00m pairs)\n",
      "\u001b[0;31mTypeError\u001b[0m: 'int' object is not iterable"
     ]
    }
   ],
   "source": [
    "import itertools\n",
    "from copies.ex_10_16__vector_v5_copy import Vector\n",
    "\n",
    "class VectorV8(Vector):\n",
    "    def __add__(self, other):\n",
    "        pairs = itertools.zip_longest(self, other, fillvalue=0.0)\n",
    "        return VectorV8(a + b for a, b in pairs)\n",
    "    \n",
    "    def __radd__(self, other):\n",
    "        return self + other\n",
    "\n",
    "v1 = VectorV8([1, 2, 3])\n",
    "v1 + 1"
   ]
  },
  {
   "cell_type": "code",
   "execution_count": 2,
   "metadata": {},
   "outputs": [
    {
     "ename": "TypeError",
     "evalue": "unsupported operand type(s) for +: 'float' and 'str'",
     "output_type": "error",
     "traceback": [
      "\u001b[0;31m---------------------------------------------------------------------------\u001b[0m",
      "\u001b[0;31mTypeError\u001b[0m                                 Traceback (most recent call last)",
      "\u001b[1;32m/home/lucas/codes/python-fluent/Part_4-Object_Oriented_Idioms/Chap_13-Operator_Overloading_Doing_it_Right/ex_13_7,8,9__vector_radd.ipynb Cell 2'\u001b[0m in \u001b[0;36m<module>\u001b[0;34m\u001b[0m\n\u001b[0;32m----> <a href='vscode-notebook-cell:/home/lucas/codes/python-fluent/Part_4-Object_Oriented_Idioms/Chap_13-Operator_Overloading_Doing_it_Right/ex_13_7%2C8%2C9__vector_radd.ipynb#ch0000001?line=0'>1</a>\u001b[0m v1 \u001b[39m+\u001b[39;49m \u001b[39m'\u001b[39;49m\u001b[39mABC\u001b[39;49m\u001b[39m'\u001b[39;49m\n",
      "\u001b[1;32m/home/lucas/codes/python-fluent/Part_4-Object_Oriented_Idioms/Chap_13-Operator_Overloading_Doing_it_Right/ex_13_7,8,9__vector_radd.ipynb Cell 1'\u001b[0m in \u001b[0;36mVectorV8.__add__\u001b[0;34m(self, other)\u001b[0m\n\u001b[1;32m      <a href='vscode-notebook-cell:/home/lucas/codes/python-fluent/Part_4-Object_Oriented_Idioms/Chap_13-Operator_Overloading_Doing_it_Right/ex_13_7%2C8%2C9__vector_radd.ipynb#ch0000000?line=4'>5</a>\u001b[0m \u001b[39mdef\u001b[39;00m \u001b[39m__add__\u001b[39m(\u001b[39mself\u001b[39m, other):\n\u001b[1;32m      <a href='vscode-notebook-cell:/home/lucas/codes/python-fluent/Part_4-Object_Oriented_Idioms/Chap_13-Operator_Overloading_Doing_it_Right/ex_13_7%2C8%2C9__vector_radd.ipynb#ch0000000?line=5'>6</a>\u001b[0m     pairs \u001b[39m=\u001b[39m itertools\u001b[39m.\u001b[39mzip_longest(\u001b[39mself\u001b[39m, other, fillvalue\u001b[39m=\u001b[39m\u001b[39m0.0\u001b[39m)\n\u001b[0;32m----> <a href='vscode-notebook-cell:/home/lucas/codes/python-fluent/Part_4-Object_Oriented_Idioms/Chap_13-Operator_Overloading_Doing_it_Right/ex_13_7%2C8%2C9__vector_radd.ipynb#ch0000000?line=6'>7</a>\u001b[0m     \u001b[39mreturn\u001b[39;00m VectorV8(a \u001b[39m+\u001b[39;49m b \u001b[39mfor\u001b[39;49;00m a, b \u001b[39min\u001b[39;49;00m pairs)\n",
      "File \u001b[0;32m~/codes/python-fluent/Part_4-Object_Oriented_Idioms/Chap_13-Operator_Overloading_Doing_it_Right/copies/ex_10_16__vector_v5_copy.py:204\u001b[0m, in \u001b[0;36mVector.__init__\u001b[0;34m(self, components)\u001b[0m\n\u001b[1;32m    <a href='file:///home/lucas/codes/python-fluent/Part_4-Object_Oriented_Idioms/Chap_13-Operator_Overloading_Doing_it_Right/copies/ex_10_16__vector_v5_copy.py?line=202'>203</a>\u001b[0m \u001b[39mdef\u001b[39;00m \u001b[39m__init__\u001b[39m(\u001b[39mself\u001b[39m, components):\n\u001b[0;32m--> <a href='file:///home/lucas/codes/python-fluent/Part_4-Object_Oriented_Idioms/Chap_13-Operator_Overloading_Doing_it_Right/copies/ex_10_16__vector_v5_copy.py?line=203'>204</a>\u001b[0m     \u001b[39mself\u001b[39m\u001b[39m.\u001b[39m_components \u001b[39m=\u001b[39m array(\u001b[39mself\u001b[39;49m\u001b[39m.\u001b[39;49mtypecode, components)\n",
      "\u001b[1;32m/home/lucas/codes/python-fluent/Part_4-Object_Oriented_Idioms/Chap_13-Operator_Overloading_Doing_it_Right/ex_13_7,8,9__vector_radd.ipynb Cell 1'\u001b[0m in \u001b[0;36m<genexpr>\u001b[0;34m(.0)\u001b[0m\n\u001b[1;32m      <a href='vscode-notebook-cell:/home/lucas/codes/python-fluent/Part_4-Object_Oriented_Idioms/Chap_13-Operator_Overloading_Doing_it_Right/ex_13_7%2C8%2C9__vector_radd.ipynb#ch0000000?line=4'>5</a>\u001b[0m \u001b[39mdef\u001b[39;00m \u001b[39m__add__\u001b[39m(\u001b[39mself\u001b[39m, other):\n\u001b[1;32m      <a href='vscode-notebook-cell:/home/lucas/codes/python-fluent/Part_4-Object_Oriented_Idioms/Chap_13-Operator_Overloading_Doing_it_Right/ex_13_7%2C8%2C9__vector_radd.ipynb#ch0000000?line=5'>6</a>\u001b[0m     pairs \u001b[39m=\u001b[39m itertools\u001b[39m.\u001b[39mzip_longest(\u001b[39mself\u001b[39m, other, fillvalue\u001b[39m=\u001b[39m\u001b[39m0.0\u001b[39m)\n\u001b[0;32m----> <a href='vscode-notebook-cell:/home/lucas/codes/python-fluent/Part_4-Object_Oriented_Idioms/Chap_13-Operator_Overloading_Doing_it_Right/ex_13_7%2C8%2C9__vector_radd.ipynb#ch0000000?line=6'>7</a>\u001b[0m     \u001b[39mreturn\u001b[39;00m VectorV8(a \u001b[39m+\u001b[39;49m b \u001b[39mfor\u001b[39;00m a, b \u001b[39min\u001b[39;00m pairs)\n",
      "\u001b[0;31mTypeError\u001b[0m: unsupported operand type(s) for +: 'float' and 'str'"
     ]
    }
   ],
   "source": [
    "v1 + 'ABC'"
   ]
  },
  {
   "cell_type": "code",
   "execution_count": null,
   "metadata": {},
   "outputs": [],
   "source": []
  }
 ],
 "metadata": {
  "interpreter": {
   "hash": "b1cad6e4136aaf5b8d341537b41e4e06441496f7176c964558b716a0d04682ee"
  },
  "kernelspec": {
   "display_name": "Python 3.10.2 64-bit ('python-fluent')",
   "language": "python",
   "name": "python3"
  },
  "language_info": {
   "codemirror_mode": {
    "name": "ipython",
    "version": 3
   },
   "file_extension": ".py",
   "mimetype": "text/x-python",
   "name": "python",
   "nbconvert_exporter": "python",
   "pygments_lexer": "ipython3",
   "version": "3.10.2"
  },
  "orig_nbformat": 4
 },
 "nbformat": 4,
 "nbformat_minor": 2
}
