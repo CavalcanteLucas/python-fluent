{
 "cells": [
  {
   "cell_type": "code",
   "execution_count": 2,
   "metadata": {},
   "outputs": [
    {
     "data": {
      "text/plain": [
       "6.0"
      ]
     },
     "execution_count": 2,
     "metadata": {},
     "output_type": "execute_result"
    }
   ],
   "source": [
    "from ex_10_6__vector_v2 import VectorV2\n",
    "\n",
    "v7 = VectorV2(range(7))\n",
    "v7[-1]"
   ]
  },
  {
   "cell_type": "code",
   "execution_count": 3,
   "metadata": {},
   "outputs": [
    {
     "data": {
      "text/plain": [
       "Vector([1.0, 2.0, 3.0])"
      ]
     },
     "execution_count": 3,
     "metadata": {},
     "output_type": "execute_result"
    }
   ],
   "source": [
    "v7[1:4]"
   ]
  },
  {
   "cell_type": "code",
   "execution_count": 4,
   "metadata": {},
   "outputs": [
    {
     "data": {
      "text/plain": [
       "Vector([6.0])"
      ]
     },
     "execution_count": 4,
     "metadata": {},
     "output_type": "execute_result"
    }
   ],
   "source": [
    "v7[-1:]"
   ]
  },
  {
   "cell_type": "code",
   "execution_count": 5,
   "metadata": {},
   "outputs": [
    {
     "ename": "TypeError",
     "evalue": "VectorV2 indices must be integers",
     "output_type": "error",
     "traceback": [
      "\u001b[0;31m---------------------------------------------------------------------------\u001b[0m",
      "\u001b[0;31mTypeError\u001b[0m                                 Traceback (most recent call last)",
      "\u001b[1;32m/home/lucas/codes/python-fluent/Part_4-Object_Oriented_Idioms/Chap_10-Sequence_Hacking_Hashing_and_Slicing/ex_10_7__test_vector_getitem.ipynb Cell 4'\u001b[0m in \u001b[0;36m<module>\u001b[0;34m\u001b[0m\n\u001b[0;32m----> <a href='vscode-notebook-cell:/home/lucas/codes/python-fluent/Part_4-Object_Oriented_Idioms/Chap_10-Sequence_Hacking_Hashing_and_Slicing/ex_10_7__test_vector_getitem.ipynb#ch0000003?line=0'>1</a>\u001b[0m v7[\u001b[39m1\u001b[39;49m,\u001b[39m2\u001b[39;49m]\n",
      "File \u001b[0;32m~/codes/python-fluent/Part_4-Object_Oriented_Idioms/Chap_10-Sequence_Hacking_Hashing_and_Slicing/ex_10_6__vector_v2.py:16\u001b[0m, in \u001b[0;36mVectorV2.__getitem__\u001b[0;34m(self, index)\u001b[0m\n\u001b[1;32m     <a href='file:///home/lucas/codes/python-fluent/Part_4-Object_Oriented_Idioms/Chap_10-Sequence_Hacking_Hashing_and_Slicing/ex_10_6__vector_v2.py?line=13'>14</a>\u001b[0m \u001b[39melse\u001b[39;00m:\n\u001b[1;32m     <a href='file:///home/lucas/codes/python-fluent/Part_4-Object_Oriented_Idioms/Chap_10-Sequence_Hacking_Hashing_and_Slicing/ex_10_6__vector_v2.py?line=14'>15</a>\u001b[0m     msg \u001b[39m=\u001b[39m \u001b[39m'\u001b[39m\u001b[39m{cls.__name__}\u001b[39;00m\u001b[39m indices must be integers\u001b[39m\u001b[39m'\u001b[39m\n\u001b[0;32m---> <a href='file:///home/lucas/codes/python-fluent/Part_4-Object_Oriented_Idioms/Chap_10-Sequence_Hacking_Hashing_and_Slicing/ex_10_6__vector_v2.py?line=15'>16</a>\u001b[0m     \u001b[39mraise\u001b[39;00m \u001b[39mTypeError\u001b[39;00m(msg\u001b[39m.\u001b[39mformat(\u001b[39mcls\u001b[39m\u001b[39m=\u001b[39m\u001b[39mcls\u001b[39m))\n",
      "\u001b[0;31mTypeError\u001b[0m: VectorV2 indices must be integers"
     ]
    }
   ],
   "source": [
    "v7[1,2]"
   ]
  },
  {
   "cell_type": "code",
   "execution_count": null,
   "metadata": {},
   "outputs": [],
   "source": []
  }
 ],
 "metadata": {
  "interpreter": {
   "hash": "b1cad6e4136aaf5b8d341537b41e4e06441496f7176c964558b716a0d04682ee"
  },
  "kernelspec": {
   "display_name": "Python 3.10.2 64-bit ('python-fluent')",
   "language": "python",
   "name": "python3"
  },
  "language_info": {
   "codemirror_mode": {
    "name": "ipython",
    "version": 3
   },
   "file_extension": ".py",
   "mimetype": "text/x-python",
   "name": "python",
   "nbconvert_exporter": "python",
   "pygments_lexer": "ipython3",
   "version": "3.10.2"
  },
  "orig_nbformat": 4
 },
 "nbformat": 4,
 "nbformat_minor": 2
}
