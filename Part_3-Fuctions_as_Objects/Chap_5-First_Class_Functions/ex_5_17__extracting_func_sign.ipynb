{
 "cells": [
  {
   "cell_type": "code",
   "execution_count": 1,
   "source": [
    "from ex_5_15__clip import clip\n",
    "from inspect import signature\n",
    "sig = signature(clip)\n",
    "sig"
   ],
   "outputs": [
    {
     "output_type": "execute_result",
     "data": {
      "text/plain": [
       "<Signature (text, max_len=80)>"
      ]
     },
     "metadata": {},
     "execution_count": 1
    }
   ],
   "metadata": {}
  },
  {
   "cell_type": "code",
   "execution_count": null,
   "source": [],
   "outputs": [],
   "metadata": {}
  }
 ],
 "metadata": {
  "orig_nbformat": 4,
  "language_info": {
   "name": "python",
   "version": "3.8.10",
   "mimetype": "text/x-python",
   "codemirror_mode": {
    "name": "ipython",
    "version": 3
   },
   "pygments_lexer": "ipython3",
   "nbconvert_exporter": "python",
   "file_extension": ".py"
  },
  "kernelspec": {
   "name": "python3",
   "display_name": "Python 3.8.10 64-bit ('python-fluent': pyenv)"
  },
  "interpreter": {
   "hash": "37f590f6de04d9a834de345867b5912e86fd172250c2636cb0473472171768e6"
  }
 },
 "nbformat": 4,
 "nbformat_minor": 2
}