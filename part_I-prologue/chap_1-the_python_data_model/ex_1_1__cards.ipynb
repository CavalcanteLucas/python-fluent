{
 "metadata": {
  "language_info": {
   "codemirror_mode": {
    "name": "ipython",
    "version": 3
   },
   "file_extension": ".py",
   "mimetype": "text/x-python",
   "name": "python",
   "nbconvert_exporter": "python",
   "pygments_lexer": "ipython3",
   "version": "3.8.2-final"
  },
  "orig_nbformat": 2,
  "kernelspec": {
   "name": "python38264bitvenvvenv1d06ed9c14614c3d96a251e5f1b0d314",
   "display_name": "Python 3.8.2 64-bit ('venv': venv)"
  }
 },
 "nbformat": 4,
 "nbformat_minor": 2,
 "cells": [
  {
   "cell_type": "code",
   "execution_count": 3,
   "metadata": {},
   "outputs": [],
   "source": [
    "import collections\n",
    "\n",
    "Card = collections.namedtuple('Card', ['rank', 'suit'])\n",
    "\n",
    "class FrenchDeck:\n",
    "    ranks = [str(n) for n in range(2,11)] + list('JQKA')\n",
    "    suits = 'spades diamonds clubs hearts'.split()\n",
    "\n",
    "    def __init__(self):\n",
    "        self._cards = [Card(rank,suit) for suit in self.suits\n",
    "                                       for rank in self.ranks]\n",
    "\n",
    "    def __len__(self):\n",
    "        return len(self._cards)\n",
    "\n",
    "    def __getitem__(self, position):\n",
    "        return self._cards[position]"
   ]
  },
  {
   "cell_type": "code",
   "execution_count": 4,
   "metadata": {},
   "outputs": [
    {
     "output_type": "execute_result",
     "data": {
      "text/plain": "Card(rank='7', suit='diamonds')"
     },
     "metadata": {},
     "execution_count": 4
    }
   ],
   "source": [
    "beer_card = Card('7', 'diamonds')\n",
    "beer_card"
   ]
  },
  {
   "cell_type": "code",
   "execution_count": 5,
   "metadata": {},
   "outputs": [
    {
     "output_type": "execute_result",
     "data": {
      "text/plain": "52"
     },
     "metadata": {},
     "execution_count": 5
    }
   ],
   "source": [
    "deck = FrenchDeck()\n",
    "len(deck)"
   ]
  },
  {
   "cell_type": "code",
   "execution_count": 6,
   "metadata": {},
   "outputs": [
    {
     "output_type": "execute_result",
     "data": {
      "text/plain": "Card(rank='2', suit='spades')"
     },
     "metadata": {},
     "execution_count": 6
    }
   ],
   "source": [
    "deck[0]"
   ]
  },
  {
   "cell_type": "code",
   "execution_count": 7,
   "metadata": {},
   "outputs": [
    {
     "output_type": "execute_result",
     "data": {
      "text/plain": "Card(rank='A', suit='hearts')"
     },
     "metadata": {},
     "execution_count": 7
    }
   ],
   "source": [
    "deck[-1]"
   ]
  },
  {
   "cell_type": "code",
   "execution_count": 8,
   "metadata": {},
   "outputs": [
    {
     "output_type": "execute_result",
     "data": {
      "text/plain": "Card(rank='8', suit='diamonds')"
     },
     "metadata": {},
     "execution_count": 8
    }
   ],
   "source": [
    "from random import choice\n",
    "choice(deck)"
   ]
  },
  {
   "cell_type": "code",
   "execution_count": 9,
   "metadata": {},
   "outputs": [
    {
     "output_type": "execute_result",
     "data": {
      "text/plain": "Card(rank='J', suit='spades')"
     },
     "metadata": {},
     "execution_count": 9
    }
   ],
   "source": [
    "choice(deck)"
   ]
  },
  {
   "cell_type": "code",
   "execution_count": 10,
   "metadata": {},
   "outputs": [
    {
     "output_type": "execute_result",
     "data": {
      "text/plain": "Card(rank='2', suit='clubs')"
     },
     "metadata": {},
     "execution_count": 10
    }
   ],
   "source": [
    "choice(deck)"
   ]
  },
  {
   "cell_type": "code",
   "execution_count": 11,
   "metadata": {},
   "outputs": [
    {
     "output_type": "execute_result",
     "data": {
      "text/plain": "[Card(rank='2', suit='spades'),\n Card(rank='3', suit='spades'),\n Card(rank='4', suit='spades')]"
     },
     "metadata": {},
     "execution_count": 11
    }
   ],
   "source": [
    "deck[:3]"
   ]
  },
  {
   "cell_type": "code",
   "execution_count": 12,
   "metadata": {},
   "outputs": [
    {
     "output_type": "execute_result",
     "data": {
      "text/plain": "[Card(rank='A', suit='spades'),\n Card(rank='A', suit='diamonds'),\n Card(rank='A', suit='clubs'),\n Card(rank='A', suit='hearts')]"
     },
     "metadata": {},
     "execution_count": 12
    }
   ],
   "source": [
    "deck[12::13]"
   ]
  },
  {
   "cell_type": "code",
   "execution_count": 14,
   "metadata": {
    "tags": []
   },
   "outputs": [
    {
     "output_type": "stream",
     "name": "stdout",
     "text": "Card(rank='2', suit='spades')\nCard(rank='3', suit='spades')\nCard(rank='4', suit='spades')\nCard(rank='5', suit='spades')\nCard(rank='6', suit='spades')\nCard(rank='7', suit='spades')\nCard(rank='8', suit='spades')\nCard(rank='9', suit='spades')\nCard(rank='10', suit='spades')\nCard(rank='J', suit='spades')\nCard(rank='Q', suit='spades')\nCard(rank='K', suit='spades')\nCard(rank='A', suit='spades')\nCard(rank='2', suit='diamonds')\nCard(rank='3', suit='diamonds')\nCard(rank='4', suit='diamonds')\nCard(rank='5', suit='diamonds')\nCard(rank='6', suit='diamonds')\nCard(rank='7', suit='diamonds')\nCard(rank='8', suit='diamonds')\nCard(rank='9', suit='diamonds')\nCard(rank='10', suit='diamonds')\nCard(rank='J', suit='diamonds')\nCard(rank='Q', suit='diamonds')\nCard(rank='K', suit='diamonds')\nCard(rank='A', suit='diamonds')\nCard(rank='2', suit='clubs')\nCard(rank='3', suit='clubs')\nCard(rank='4', suit='clubs')\nCard(rank='5', suit='clubs')\nCard(rank='6', suit='clubs')\nCard(rank='7', suit='clubs')\nCard(rank='8', suit='clubs')\nCard(rank='9', suit='clubs')\nCard(rank='10', suit='clubs')\nCard(rank='J', suit='clubs')\nCard(rank='Q', suit='clubs')\nCard(rank='K', suit='clubs')\nCard(rank='A', suit='clubs')\nCard(rank='2', suit='hearts')\nCard(rank='3', suit='hearts')\nCard(rank='4', suit='hearts')\nCard(rank='5', suit='hearts')\nCard(rank='6', suit='hearts')\nCard(rank='7', suit='hearts')\nCard(rank='8', suit='hearts')\nCard(rank='9', suit='hearts')\nCard(rank='10', suit='hearts')\nCard(rank='J', suit='hearts')\nCard(rank='Q', suit='hearts')\nCard(rank='K', suit='hearts')\nCard(rank='A', suit='hearts')\n"
    }
   ],
   "source": [
    "for card in deck:\n",
    "    print(card)"
   ]
  },
  {
   "cell_type": "code",
   "execution_count": 15,
   "metadata": {
    "tags": []
   },
   "outputs": [
    {
     "output_type": "stream",
     "name": "stdout",
     "text": "Card(rank='A', suit='hearts')\nCard(rank='K', suit='hearts')\nCard(rank='Q', suit='hearts')\nCard(rank='J', suit='hearts')\nCard(rank='10', suit='hearts')\nCard(rank='9', suit='hearts')\nCard(rank='8', suit='hearts')\nCard(rank='7', suit='hearts')\nCard(rank='6', suit='hearts')\nCard(rank='5', suit='hearts')\nCard(rank='4', suit='hearts')\nCard(rank='3', suit='hearts')\nCard(rank='2', suit='hearts')\nCard(rank='A', suit='clubs')\nCard(rank='K', suit='clubs')\nCard(rank='Q', suit='clubs')\nCard(rank='J', suit='clubs')\nCard(rank='10', suit='clubs')\nCard(rank='9', suit='clubs')\nCard(rank='8', suit='clubs')\nCard(rank='7', suit='clubs')\nCard(rank='6', suit='clubs')\nCard(rank='5', suit='clubs')\nCard(rank='4', suit='clubs')\nCard(rank='3', suit='clubs')\nCard(rank='2', suit='clubs')\nCard(rank='A', suit='diamonds')\nCard(rank='K', suit='diamonds')\nCard(rank='Q', suit='diamonds')\nCard(rank='J', suit='diamonds')\nCard(rank='10', suit='diamonds')\nCard(rank='9', suit='diamonds')\nCard(rank='8', suit='diamonds')\nCard(rank='7', suit='diamonds')\nCard(rank='6', suit='diamonds')\nCard(rank='5', suit='diamonds')\nCard(rank='4', suit='diamonds')\nCard(rank='3', suit='diamonds')\nCard(rank='2', suit='diamonds')\nCard(rank='A', suit='spades')\nCard(rank='K', suit='spades')\nCard(rank='Q', suit='spades')\nCard(rank='J', suit='spades')\nCard(rank='10', suit='spades')\nCard(rank='9', suit='spades')\nCard(rank='8', suit='spades')\nCard(rank='7', suit='spades')\nCard(rank='6', suit='spades')\nCard(rank='5', suit='spades')\nCard(rank='4', suit='spades')\nCard(rank='3', suit='spades')\nCard(rank='2', suit='spades')\n"
    }
   ],
   "source": [
    "for card in reversed(deck):\n",
    "    print(card)"
   ]
  },
  {
   "cell_type": "code",
   "execution_count": 16,
   "metadata": {},
   "outputs": [
    {
     "output_type": "execute_result",
     "data": {
      "text/plain": "True"
     },
     "metadata": {},
     "execution_count": 16
    }
   ],
   "source": [
    "Card('Q', 'hearts') in deck"
   ]
  },
  {
   "cell_type": "code",
   "execution_count": 17,
   "metadata": {},
   "outputs": [
    {
     "output_type": "execute_result",
     "data": {
      "text/plain": "False"
     },
     "metadata": {},
     "execution_count": 17
    }
   ],
   "source": [
    "Card('7', 'beasts') in deck"
   ]
  },
  {
   "cell_type": "code",
   "execution_count": 19,
   "metadata": {},
   "outputs": [],
   "source": [
    "suit_values = dict(spades=3, hearts=2, diamonds=1, clubs=0)\n",
    "\n",
    "def spades_high(card):\n",
    "    rank_value = FrenchDeck.ranks.index(card.rank)\n",
    "    return rank_value * len(suit_values) + suit_values[card.suit]"
   ]
  },
  {
   "cell_type": "code",
   "execution_count": 20,
   "metadata": {
    "tags": []
   },
   "outputs": [
    {
     "output_type": "stream",
     "name": "stdout",
     "text": "Card(rank='2', suit='clubs')\nCard(rank='2', suit='diamonds')\nCard(rank='2', suit='hearts')\nCard(rank='2', suit='spades')\nCard(rank='3', suit='clubs')\nCard(rank='3', suit='diamonds')\nCard(rank='3', suit='hearts')\nCard(rank='3', suit='spades')\nCard(rank='4', suit='clubs')\nCard(rank='4', suit='diamonds')\nCard(rank='4', suit='hearts')\nCard(rank='4', suit='spades')\nCard(rank='5', suit='clubs')\nCard(rank='5', suit='diamonds')\nCard(rank='5', suit='hearts')\nCard(rank='5', suit='spades')\nCard(rank='6', suit='clubs')\nCard(rank='6', suit='diamonds')\nCard(rank='6', suit='hearts')\nCard(rank='6', suit='spades')\nCard(rank='7', suit='clubs')\nCard(rank='7', suit='diamonds')\nCard(rank='7', suit='hearts')\nCard(rank='7', suit='spades')\nCard(rank='8', suit='clubs')\nCard(rank='8', suit='diamonds')\nCard(rank='8', suit='hearts')\nCard(rank='8', suit='spades')\nCard(rank='9', suit='clubs')\nCard(rank='9', suit='diamonds')\nCard(rank='9', suit='hearts')\nCard(rank='9', suit='spades')\nCard(rank='10', suit='clubs')\nCard(rank='10', suit='diamonds')\nCard(rank='10', suit='hearts')\nCard(rank='10', suit='spades')\nCard(rank='J', suit='clubs')\nCard(rank='J', suit='diamonds')\nCard(rank='J', suit='hearts')\nCard(rank='J', suit='spades')\nCard(rank='Q', suit='clubs')\nCard(rank='Q', suit='diamonds')\nCard(rank='Q', suit='hearts')\nCard(rank='Q', suit='spades')\nCard(rank='K', suit='clubs')\nCard(rank='K', suit='diamonds')\nCard(rank='K', suit='hearts')\nCard(rank='K', suit='spades')\nCard(rank='A', suit='clubs')\nCard(rank='A', suit='diamonds')\nCard(rank='A', suit='hearts')\nCard(rank='A', suit='spades')\n"
    }
   ],
   "source": [
    "for card in sorted(deck, key=spades_high):\n",
    "    print(card)"
   ]
  },
  {
   "cell_type": "code",
   "execution_count": null,
   "metadata": {},
   "outputs": [],
   "source": []
  }
 ]
}