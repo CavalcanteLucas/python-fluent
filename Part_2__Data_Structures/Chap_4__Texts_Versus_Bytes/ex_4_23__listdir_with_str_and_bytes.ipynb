{
 "cells": [
  {
   "cell_type": "code",
   "execution_count": 1,
   "source": [
    "import os\n",
    "\n",
    "os.listdir('.')"
   ],
   "outputs": [
    {
     "output_type": "execute_result",
     "data": {
      "text/plain": [
       "['ex_4_15__using_shave_marks.ipynb',\n",
       " 'ex_4_4__using_memoryview_and_struct',\n",
       " '__init__.py',\n",
       " 'ex_4_18__use_asciize.ipynb',\n",
       " 'ex_4_19__sorting_ascii.ipynb',\n",
       " '.ipynb_checkpoints',\n",
       " 'ex_4_13_b__case_folding.ipynb',\n",
       " 'ex_4_3__initializing_bytes_from_raw_data.ipynb',\n",
       " 'ex_4_23__listdir_with_str_and_bytes.ipynb',\n",
       " 'ex_4_17__asciize.py',\n",
       " 'ex_4_13__normeq.py',\n",
       " 'ex_4_13__normeq.ipynb',\n",
       " 'ex_4_7__decoding_From_str_to_bytes.ipynb',\n",
       " 'ex_4_14__remove_diacritics.py',\n",
       " 'ex_4_5__string_encoded.ipynb',\n",
       " 'ex_4_21__demo_unicode_database.ipynb',\n",
       " 'ex_4_13_a__normalizing_unicode.ipynb',\n",
       " 'ex_4_6__encoding_to_bytes.ipynb',\n",
       " 'ex_4_2__bytes_and_bytearrays.ipynb',\n",
       " '__pycache__',\n",
       " 'ex_4_11__encoding_defaults.ipynb',\n",
       " 'ex_4_20__using_pyuca.ipynb',\n",
       " 'ex_4_1__encoding_and_decoding.ipynb',\n",
       " 'dummy',\n",
       " 'ex_4_16__sanitize.py',\n",
       " 'ex_4_22__ramanujan.py',\n",
       " 'ex_4_9,10__platform_encoding_issue',\n",
       " 'ex_4_8__ola.py']"
      ]
     },
     "metadata": {},
     "execution_count": 1
    }
   ],
   "metadata": {}
  },
  {
   "cell_type": "code",
   "execution_count": 2,
   "source": [
    "os.listdir(b'.')"
   ],
   "outputs": [
    {
     "output_type": "execute_result",
     "data": {
      "text/plain": [
       "[b'ex_4_15__using_shave_marks.ipynb',\n",
       " b'ex_4_4__using_memoryview_and_struct',\n",
       " b'__init__.py',\n",
       " b'ex_4_18__use_asciize.ipynb',\n",
       " b'ex_4_19__sorting_ascii.ipynb',\n",
       " b'.ipynb_checkpoints',\n",
       " b'ex_4_13_b__case_folding.ipynb',\n",
       " b'ex_4_3__initializing_bytes_from_raw_data.ipynb',\n",
       " b'ex_4_23__listdir_with_str_and_bytes.ipynb',\n",
       " b'ex_4_17__asciize.py',\n",
       " b'ex_4_13__normeq.py',\n",
       " b'ex_4_13__normeq.ipynb',\n",
       " b'ex_4_7__decoding_From_str_to_bytes.ipynb',\n",
       " b'ex_4_14__remove_diacritics.py',\n",
       " b'ex_4_5__string_encoded.ipynb',\n",
       " b'ex_4_21__demo_unicode_database.ipynb',\n",
       " b'ex_4_13_a__normalizing_unicode.ipynb',\n",
       " b'ex_4_6__encoding_to_bytes.ipynb',\n",
       " b'ex_4_2__bytes_and_bytearrays.ipynb',\n",
       " b'__pycache__',\n",
       " b'ex_4_11__encoding_defaults.ipynb',\n",
       " b'ex_4_20__using_pyuca.ipynb',\n",
       " b'ex_4_1__encoding_and_decoding.ipynb',\n",
       " b'dummy',\n",
       " b'ex_4_16__sanitize.py',\n",
       " b'ex_4_22__ramanujan.py',\n",
       " b'ex_4_9,10__platform_encoding_issue',\n",
       " b'ex_4_8__ola.py']"
      ]
     },
     "metadata": {},
     "execution_count": 2
    }
   ],
   "metadata": {}
  },
  {
   "cell_type": "code",
   "execution_count": null,
   "source": [],
   "outputs": [],
   "metadata": {}
  }
 ],
 "metadata": {
  "orig_nbformat": 4,
  "language_info": {
   "name": "python",
   "version": "3.8.10",
   "mimetype": "text/x-python",
   "codemirror_mode": {
    "name": "ipython",
    "version": 3
   },
   "pygments_lexer": "ipython3",
   "nbconvert_exporter": "python",
   "file_extension": ".py"
  },
  "kernelspec": {
   "name": "python3",
   "display_name": "Python 3.8.10 64-bit ('venv': venv)"
  },
  "interpreter": {
   "hash": "7b2c21fa319699461dc57a577529aa7c6acc04f91bbceed69df0dfeab7e213ef"
  }
 },
 "nbformat": 4,
 "nbformat_minor": 2
}